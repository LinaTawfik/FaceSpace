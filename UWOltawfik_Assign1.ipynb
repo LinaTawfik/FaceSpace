{
  "nbformat": 4,
  "nbformat_minor": 0,
  "metadata": {
    "colab": {
      "name": "UWOltawfik_Assign1.ipynb",
      "version": "0.3.2",
      "provenance": [],
      "collapsed_sections": [],
      "include_colab_link": true
    },
    "kernelspec": {
      "name": "python3",
      "display_name": "Python 3"
    },
    "accelerator": "GPU"
  },
  "cells": [
    {
      "cell_type": "markdown",
      "metadata": {
        "id": "view-in-github",
        "colab_type": "text"
      },
      "source": [
        "<a href=\"https://colab.research.google.com/github/LinaTawfik/FaceSpace/blob/master/UWOltawfik_Assign1.ipynb\" target=\"_parent\"><img src=\"https://colab.research.google.com/assets/colab-badge.svg\" alt=\"Open In Colab\"/></a>"
      ]
    },
    {
      "metadata": {
        "id": "cCKSFOJ1GtU1",
        "colab_type": "text"
      },
      "cell_type": "markdown",
      "source": [
        "# Problem Defenition \n",
        "\n",
        "This project is for the [Kaggle Titanic: Machine Learning from Disaster competition](https://www.kaggle.com/c/titanic). Bellow is a brief description of the problem taken from the Overview section of the competion.\n",
        "\n",
        "\n",
        "The sinking of the RMS Titanic is one of the most infamous shipwrecks in history.  On April 15, 1912, during her maiden voyage, the Titanic sank after colliding with an iceberg, killing 1502 out of 2224 passengers and crew. This sensational tragedy shocked the international community and led to better safety regulations for ships.\n",
        "\n",
        "One of the reasons that the shipwreck led to such loss of life was that there were not enough lifeboats for the passengers and crew. Although there was some element of luck involved in surviving the sinking, some groups of people were more likely to survive than others, such as women, children, and the upper-class.\n",
        "\n",
        "In this challenge, we will complete the analysis of what sorts of people were likely to survive by applying the tools of machine learning to predict which passengers survived the tragedy."
      ]
    },
    {
      "metadata": {
        "id": "mlhKdVGBMrj0",
        "colab_type": "text"
      },
      "cell_type": "markdown",
      "source": [
        "# Collecting Data\n",
        "The data is downloaded from the [Data](https://www.kaggle.com/c/titanic/data) section of the competion. \n",
        "The data has been split into two groups, the training set (train.csv) and test set (test.csv). The training set will be used to build the machine learning models where the outcome (also known as the “ground truth”) is provided for each passenger. The test set will be used to see how well the model performs on unseen data. For the test set, the ground truth is not provided for each passenger and it is the model's job to predict these outcomes. \n",
        "\n"
      ]
    },
    {
      "metadata": {
        "id": "lPzA2VLkP3NR",
        "colab_type": "text"
      },
      "cell_type": "markdown",
      "source": [
        "** Loading Train and Test Data Using Panadas**\n",
        "\n",
        "We will use Pandas since it makes it easy to  visualize the data sets\n",
        "\n",
        "First, you will need to upload the train.csv and test.csv files into the Files section for each new session"
      ]
    },
    {
      "metadata": {
        "id": "aaXYMRobQYAl",
        "colab_type": "code",
        "colab": {}
      },
      "cell_type": "code",
      "source": [
        "import pandas as pd\n",
        "train=pd.read_csv('/train.csv')\n",
        "test=pd.read_csv('/test.csv')"
      ],
      "execution_count": 0,
      "outputs": []
    },
    {
      "metadata": {
        "id": "pF8UN389lSxq",
        "colab_type": "text"
      },
      "cell_type": "markdown",
      "source": [
        "# Data Analysis\n",
        "\n",
        "**Train Data Set**\n",
        "\n",
        "First, we will print the first 5 rows of the train data set to understand how the train data set is structured\n",
        "As we can see by running train.head() and train.shape code cells below, we have 12 features (columns) describing our train data and 891 passengers (rows).\n",
        "\n",
        "To better understand these feautres, the [Data Dictionary](https://www.kaggle.com/c/titanic/data) gives us a break down of the meaning of each feature, as seen below:\n",
        "\n",
        "We here give the Variable Name,\tDefinition, Key (if applicable)\n",
        "\n",
        "survival,\tSurvival,\t0 = No, 1 = Yes\n",
        "pclass,\tTicket class,\t1 = 1st, 2 = 2nd, 3 = 3rd\n",
        "sex,\tSex\t\n",
        "Age,\tAge in years\t\n",
        "sibsp,\t# of siblings / spouses aboard the Titanic\t\n",
        "parch,\t# of parents / children aboard the Titanic\t\n",
        "ticket,\tTicket number\t\n",
        "fare,\tPassenger fare\t\n",
        "cabin,\tCabin number\t\n",
        "embarked,\tPort of Embarkation,\tC = Cherbourg, Q = Queenstown, S = Southampton\n",
        "\n",
        "***\n",
        "Further Explanation of some variables:\n",
        "\n",
        "age: Age is fractional if less than 1. If the age is estimated, is it in the form of xx.5\n",
        "\n",
        "sibsp: The dataset defines family relations in this way...\n",
        "Sibling = brother, sister, stepbrother, stepsister\n",
        "Spouse = husband, wife (mistresses and fiancés were ignored)\n",
        "\n",
        "parch: The dataset defines family relations in this way...\n",
        "Parent = mother, father\n",
        "Child = daughter, son, stepdaughter, stepson\n",
        "Some children travelled only with a nanny, therefore parch=0 for them.\n",
        "\n",
        "Note: when looking at the entries, we can see NaN which means this field is missing in the data. We will need to fill out these fields using feature engineering (later expalined) or delete the entire row\n",
        "\n",
        "**Test Data Set**\n",
        "\n",
        "By running train.head() and test.shape code cells below, we can see that we have 418 passengers (rows) and only 11 features (columns) with the survived field from the training data set missing. This is because we will use this set to predict if the passenger survived or not. \n"
      ]
    },
    {
      "metadata": {
        "id": "JlZk_RezZrUz",
        "colab_type": "code",
        "colab": {
          "base_uri": "https://localhost:8080/",
          "height": 203
        },
        "outputId": "8e84049f-9e99-47fa-e7b3-fcfc5080cc7f"
      },
      "cell_type": "code",
      "source": [
        "train.head()"
      ],
      "execution_count": 3,
      "outputs": [
        {
          "output_type": "execute_result",
          "data": {
            "text/html": [
              "<div>\n",
              "<style scoped>\n",
              "    .dataframe tbody tr th:only-of-type {\n",
              "        vertical-align: middle;\n",
              "    }\n",
              "\n",
              "    .dataframe tbody tr th {\n",
              "        vertical-align: top;\n",
              "    }\n",
              "\n",
              "    .dataframe thead th {\n",
              "        text-align: right;\n",
              "    }\n",
              "</style>\n",
              "<table border=\"1\" class=\"dataframe\">\n",
              "  <thead>\n",
              "    <tr style=\"text-align: right;\">\n",
              "      <th></th>\n",
              "      <th>PassengerId</th>\n",
              "      <th>Survived</th>\n",
              "      <th>Pclass</th>\n",
              "      <th>Name</th>\n",
              "      <th>Sex</th>\n",
              "      <th>Age</th>\n",
              "      <th>SibSp</th>\n",
              "      <th>Parch</th>\n",
              "      <th>Ticket</th>\n",
              "      <th>Fare</th>\n",
              "      <th>Cabin</th>\n",
              "      <th>Embarked</th>\n",
              "    </tr>\n",
              "  </thead>\n",
              "  <tbody>\n",
              "    <tr>\n",
              "      <th>0</th>\n",
              "      <td>1</td>\n",
              "      <td>0</td>\n",
              "      <td>3</td>\n",
              "      <td>Braund, Mr. Owen Harris</td>\n",
              "      <td>male</td>\n",
              "      <td>22.0</td>\n",
              "      <td>1</td>\n",
              "      <td>0</td>\n",
              "      <td>A/5 21171</td>\n",
              "      <td>7.2500</td>\n",
              "      <td>NaN</td>\n",
              "      <td>S</td>\n",
              "    </tr>\n",
              "    <tr>\n",
              "      <th>1</th>\n",
              "      <td>2</td>\n",
              "      <td>1</td>\n",
              "      <td>1</td>\n",
              "      <td>Cumings, Mrs. John Bradley (Florence Briggs Th...</td>\n",
              "      <td>female</td>\n",
              "      <td>38.0</td>\n",
              "      <td>1</td>\n",
              "      <td>0</td>\n",
              "      <td>PC 17599</td>\n",
              "      <td>71.2833</td>\n",
              "      <td>C85</td>\n",
              "      <td>C</td>\n",
              "    </tr>\n",
              "    <tr>\n",
              "      <th>2</th>\n",
              "      <td>3</td>\n",
              "      <td>1</td>\n",
              "      <td>3</td>\n",
              "      <td>Heikkinen, Miss. Laina</td>\n",
              "      <td>female</td>\n",
              "      <td>26.0</td>\n",
              "      <td>0</td>\n",
              "      <td>0</td>\n",
              "      <td>STON/O2. 3101282</td>\n",
              "      <td>7.9250</td>\n",
              "      <td>NaN</td>\n",
              "      <td>S</td>\n",
              "    </tr>\n",
              "    <tr>\n",
              "      <th>3</th>\n",
              "      <td>4</td>\n",
              "      <td>1</td>\n",
              "      <td>1</td>\n",
              "      <td>Futrelle, Mrs. Jacques Heath (Lily May Peel)</td>\n",
              "      <td>female</td>\n",
              "      <td>35.0</td>\n",
              "      <td>1</td>\n",
              "      <td>0</td>\n",
              "      <td>113803</td>\n",
              "      <td>53.1000</td>\n",
              "      <td>C123</td>\n",
              "      <td>S</td>\n",
              "    </tr>\n",
              "    <tr>\n",
              "      <th>4</th>\n",
              "      <td>5</td>\n",
              "      <td>0</td>\n",
              "      <td>3</td>\n",
              "      <td>Allen, Mr. William Henry</td>\n",
              "      <td>male</td>\n",
              "      <td>35.0</td>\n",
              "      <td>0</td>\n",
              "      <td>0</td>\n",
              "      <td>373450</td>\n",
              "      <td>8.0500</td>\n",
              "      <td>NaN</td>\n",
              "      <td>S</td>\n",
              "    </tr>\n",
              "  </tbody>\n",
              "</table>\n",
              "</div>"
            ],
            "text/plain": [
              "   PassengerId  Survived  Pclass  \\\n",
              "0            1         0       3   \n",
              "1            2         1       1   \n",
              "2            3         1       3   \n",
              "3            4         1       1   \n",
              "4            5         0       3   \n",
              "\n",
              "                                                Name     Sex   Age  SibSp  \\\n",
              "0                            Braund, Mr. Owen Harris    male  22.0      1   \n",
              "1  Cumings, Mrs. John Bradley (Florence Briggs Th...  female  38.0      1   \n",
              "2                             Heikkinen, Miss. Laina  female  26.0      0   \n",
              "3       Futrelle, Mrs. Jacques Heath (Lily May Peel)  female  35.0      1   \n",
              "4                           Allen, Mr. William Henry    male  35.0      0   \n",
              "\n",
              "   Parch            Ticket     Fare Cabin Embarked  \n",
              "0      0         A/5 21171   7.2500   NaN        S  \n",
              "1      0          PC 17599  71.2833   C85        C  \n",
              "2      0  STON/O2. 3101282   7.9250   NaN        S  \n",
              "3      0            113803  53.1000  C123        S  \n",
              "4      0            373450   8.0500   NaN        S  "
            ]
          },
          "metadata": {
            "tags": []
          },
          "execution_count": 3
        }
      ]
    },
    {
      "metadata": {
        "id": "QUGHqi-hvJ_L",
        "colab_type": "code",
        "colab": {
          "base_uri": "https://localhost:8080/",
          "height": 35
        },
        "outputId": "3c335c74-4348-4976-e748-a571b18ac374"
      },
      "cell_type": "code",
      "source": [
        "train.shape"
      ],
      "execution_count": 4,
      "outputs": [
        {
          "output_type": "execute_result",
          "data": {
            "text/plain": [
              "(891, 12)"
            ]
          },
          "metadata": {
            "tags": []
          },
          "execution_count": 4
        }
      ]
    },
    {
      "metadata": {
        "id": "S4BEOn3L4r5-",
        "colab_type": "code",
        "colab": {
          "base_uri": "https://localhost:8080/",
          "height": 203
        },
        "outputId": "006df469-0a1d-47f3-c0c0-dd1272f11b7e"
      },
      "cell_type": "code",
      "source": [
        "test.head()"
      ],
      "execution_count": 5,
      "outputs": [
        {
          "output_type": "execute_result",
          "data": {
            "text/html": [
              "<div>\n",
              "<style scoped>\n",
              "    .dataframe tbody tr th:only-of-type {\n",
              "        vertical-align: middle;\n",
              "    }\n",
              "\n",
              "    .dataframe tbody tr th {\n",
              "        vertical-align: top;\n",
              "    }\n",
              "\n",
              "    .dataframe thead th {\n",
              "        text-align: right;\n",
              "    }\n",
              "</style>\n",
              "<table border=\"1\" class=\"dataframe\">\n",
              "  <thead>\n",
              "    <tr style=\"text-align: right;\">\n",
              "      <th></th>\n",
              "      <th>PassengerId</th>\n",
              "      <th>Pclass</th>\n",
              "      <th>Name</th>\n",
              "      <th>Sex</th>\n",
              "      <th>Age</th>\n",
              "      <th>SibSp</th>\n",
              "      <th>Parch</th>\n",
              "      <th>Ticket</th>\n",
              "      <th>Fare</th>\n",
              "      <th>Cabin</th>\n",
              "      <th>Embarked</th>\n",
              "    </tr>\n",
              "  </thead>\n",
              "  <tbody>\n",
              "    <tr>\n",
              "      <th>0</th>\n",
              "      <td>892</td>\n",
              "      <td>3</td>\n",
              "      <td>Kelly, Mr. James</td>\n",
              "      <td>male</td>\n",
              "      <td>34.5</td>\n",
              "      <td>0</td>\n",
              "      <td>0</td>\n",
              "      <td>330911</td>\n",
              "      <td>7.8292</td>\n",
              "      <td>NaN</td>\n",
              "      <td>Q</td>\n",
              "    </tr>\n",
              "    <tr>\n",
              "      <th>1</th>\n",
              "      <td>893</td>\n",
              "      <td>3</td>\n",
              "      <td>Wilkes, Mrs. James (Ellen Needs)</td>\n",
              "      <td>female</td>\n",
              "      <td>47.0</td>\n",
              "      <td>1</td>\n",
              "      <td>0</td>\n",
              "      <td>363272</td>\n",
              "      <td>7.0000</td>\n",
              "      <td>NaN</td>\n",
              "      <td>S</td>\n",
              "    </tr>\n",
              "    <tr>\n",
              "      <th>2</th>\n",
              "      <td>894</td>\n",
              "      <td>2</td>\n",
              "      <td>Myles, Mr. Thomas Francis</td>\n",
              "      <td>male</td>\n",
              "      <td>62.0</td>\n",
              "      <td>0</td>\n",
              "      <td>0</td>\n",
              "      <td>240276</td>\n",
              "      <td>9.6875</td>\n",
              "      <td>NaN</td>\n",
              "      <td>Q</td>\n",
              "    </tr>\n",
              "    <tr>\n",
              "      <th>3</th>\n",
              "      <td>895</td>\n",
              "      <td>3</td>\n",
              "      <td>Wirz, Mr. Albert</td>\n",
              "      <td>male</td>\n",
              "      <td>27.0</td>\n",
              "      <td>0</td>\n",
              "      <td>0</td>\n",
              "      <td>315154</td>\n",
              "      <td>8.6625</td>\n",
              "      <td>NaN</td>\n",
              "      <td>S</td>\n",
              "    </tr>\n",
              "    <tr>\n",
              "      <th>4</th>\n",
              "      <td>896</td>\n",
              "      <td>3</td>\n",
              "      <td>Hirvonen, Mrs. Alexander (Helga E Lindqvist)</td>\n",
              "      <td>female</td>\n",
              "      <td>22.0</td>\n",
              "      <td>1</td>\n",
              "      <td>1</td>\n",
              "      <td>3101298</td>\n",
              "      <td>12.2875</td>\n",
              "      <td>NaN</td>\n",
              "      <td>S</td>\n",
              "    </tr>\n",
              "  </tbody>\n",
              "</table>\n",
              "</div>"
            ],
            "text/plain": [
              "   PassengerId  Pclass                                          Name     Sex  \\\n",
              "0          892       3                              Kelly, Mr. James    male   \n",
              "1          893       3              Wilkes, Mrs. James (Ellen Needs)  female   \n",
              "2          894       2                     Myles, Mr. Thomas Francis    male   \n",
              "3          895       3                              Wirz, Mr. Albert    male   \n",
              "4          896       3  Hirvonen, Mrs. Alexander (Helga E Lindqvist)  female   \n",
              "\n",
              "    Age  SibSp  Parch   Ticket     Fare Cabin Embarked  \n",
              "0  34.5      0      0   330911   7.8292   NaN        Q  \n",
              "1  47.0      1      0   363272   7.0000   NaN        S  \n",
              "2  62.0      0      0   240276   9.6875   NaN        Q  \n",
              "3  27.0      0      0   315154   8.6625   NaN        S  \n",
              "4  22.0      1      1  3101298  12.2875   NaN        S  "
            ]
          },
          "metadata": {
            "tags": []
          },
          "execution_count": 5
        }
      ]
    },
    {
      "metadata": {
        "id": "9PScI1Jwv2sz",
        "colab_type": "code",
        "colab": {
          "base_uri": "https://localhost:8080/",
          "height": 35
        },
        "outputId": "73da9097-f8ce-4538-c758-ebb0dd5f4b1d"
      },
      "cell_type": "code",
      "source": [
        "test.shape"
      ],
      "execution_count": 6,
      "outputs": [
        {
          "output_type": "execute_result",
          "data": {
            "text/plain": [
              "(418, 11)"
            ]
          },
          "metadata": {
            "tags": []
          },
          "execution_count": 6
        }
      ]
    },
    {
      "metadata": {
        "id": "fI1L1pm_w6rZ",
        "colab_type": "text"
      },
      "cell_type": "markdown",
      "source": [
        "running train.info() and test.info() can be usefull as they give us information on how many missing fields we have in each data set.\n",
        "From running train.info() in the code cell below, we have 891 entries but Age has only 714 entries and Cabin has only 204. Therefore, we have missing fields for Age and Cabin in the train data set.\n",
        "From running test.info() in the code cell below, we have 418 entries but Age is 332, Fare is 417 and Cabin is 91.\n",
        "\n",
        "The missing information will be filled out using feauture engineering later in the notebook."
      ]
    },
    {
      "metadata": {
        "id": "RnLPeLx7y5T2",
        "colab_type": "code",
        "colab": {
          "base_uri": "https://localhost:8080/",
          "height": 316
        },
        "outputId": "fe393b85-dcdd-460a-9e6f-6f655e731aba"
      },
      "cell_type": "code",
      "source": [
        "train.info()"
      ],
      "execution_count": 7,
      "outputs": [
        {
          "output_type": "stream",
          "text": [
            "<class 'pandas.core.frame.DataFrame'>\n",
            "RangeIndex: 891 entries, 0 to 890\n",
            "Data columns (total 12 columns):\n",
            "PassengerId    891 non-null int64\n",
            "Survived       891 non-null int64\n",
            "Pclass         891 non-null int64\n",
            "Name           891 non-null object\n",
            "Sex            891 non-null object\n",
            "Age            714 non-null float64\n",
            "SibSp          891 non-null int64\n",
            "Parch          891 non-null int64\n",
            "Ticket         891 non-null object\n",
            "Fare           891 non-null float64\n",
            "Cabin          204 non-null object\n",
            "Embarked       889 non-null object\n",
            "dtypes: float64(2), int64(5), object(5)\n",
            "memory usage: 83.6+ KB\n"
          ],
          "name": "stdout"
        }
      ]
    },
    {
      "metadata": {
        "id": "28jELOW3y7dV",
        "colab_type": "code",
        "colab": {
          "base_uri": "https://localhost:8080/",
          "height": 299
        },
        "outputId": "95baecff-c435-480a-e2ee-e4cd8954f847"
      },
      "cell_type": "code",
      "source": [
        "test.info()"
      ],
      "execution_count": 8,
      "outputs": [
        {
          "output_type": "stream",
          "text": [
            "<class 'pandas.core.frame.DataFrame'>\n",
            "RangeIndex: 418 entries, 0 to 417\n",
            "Data columns (total 11 columns):\n",
            "PassengerId    418 non-null int64\n",
            "Pclass         418 non-null int64\n",
            "Name           418 non-null object\n",
            "Sex            418 non-null object\n",
            "Age            332 non-null float64\n",
            "SibSp          418 non-null int64\n",
            "Parch          418 non-null int64\n",
            "Ticket         418 non-null object\n",
            "Fare           417 non-null float64\n",
            "Cabin          91 non-null object\n",
            "Embarked       418 non-null object\n",
            "dtypes: float64(2), int64(4), object(5)\n",
            "memory usage: 36.0+ KB\n"
          ],
          "name": "stdout"
        }
      ]
    },
    {
      "metadata": {
        "id": "F0zVxji96z4a",
        "colab_type": "text"
      },
      "cell_type": "markdown",
      "source": [
        "train.isnull().sum() and test.isnull().sum() will give us the sum of null values in the data set. It is usefull since by running train.isnull().sum() below, we can see that we have 177 null Age entries and 687 null Cabin entries. This tells us that the NaN values we saw in the table when running train.head() above were null. Similar analysis can be done by running test.isnull().sum(), we get 86 null values for Age and 327 for Cabin. This information will be usefull when applying feauture engineering. "
      ]
    },
    {
      "metadata": {
        "id": "IN-UZwhNRUNh",
        "colab_type": "code",
        "colab": {
          "base_uri": "https://localhost:8080/",
          "height": 246
        },
        "outputId": "70fed37f-c3d3-46cb-f3a9-293fdffefc87"
      },
      "cell_type": "code",
      "source": [
        "train.isnull().sum()"
      ],
      "execution_count": 9,
      "outputs": [
        {
          "output_type": "execute_result",
          "data": {
            "text/plain": [
              "PassengerId      0\n",
              "Survived         0\n",
              "Pclass           0\n",
              "Name             0\n",
              "Sex              0\n",
              "Age            177\n",
              "SibSp            0\n",
              "Parch            0\n",
              "Ticket           0\n",
              "Fare             0\n",
              "Cabin          687\n",
              "Embarked         2\n",
              "dtype: int64"
            ]
          },
          "metadata": {
            "tags": []
          },
          "execution_count": 9
        }
      ]
    },
    {
      "metadata": {
        "id": "Zne61X6qRUKm",
        "colab_type": "code",
        "colab": {
          "base_uri": "https://localhost:8080/",
          "height": 228
        },
        "outputId": "21a4447b-4f29-4a85-e0de-d98febc195ce"
      },
      "cell_type": "code",
      "source": [
        "test.isnull().sum()"
      ],
      "execution_count": 10,
      "outputs": [
        {
          "output_type": "execute_result",
          "data": {
            "text/plain": [
              "PassengerId      0\n",
              "Pclass           0\n",
              "Name             0\n",
              "Sex              0\n",
              "Age             86\n",
              "SibSp            0\n",
              "Parch            0\n",
              "Ticket           0\n",
              "Fare             1\n",
              "Cabin          327\n",
              "Embarked         0\n",
              "dtype: int64"
            ]
          },
          "metadata": {
            "tags": []
          },
          "execution_count": 10
        }
      ]
    },
    {
      "metadata": {
        "id": "A91WTh1sR0e1",
        "colab_type": "text"
      },
      "cell_type": "markdown",
      "source": [
        "**Import seaborn Python library for visualizing data relations**\n",
        "\n",
        "we will set seaborn as the deafult lib for plots"
      ]
    },
    {
      "metadata": {
        "id": "aKo8ISV1SDE6",
        "colab_type": "code",
        "colab": {}
      },
      "cell_type": "code",
      "source": [
        "import matplotlib.pyplot as plt\n",
        "%matplotlib inline \n",
        "import seaborn as ans\n",
        "ans.set() "
      ],
      "execution_count": 0,
      "outputs": []
    },
    {
      "metadata": {
        "id": "nTVz2-3XSx2m",
        "colab_type": "text"
      },
      "cell_type": "markdown",
      "source": [
        "**Bar Charts of Categorical Features **\n",
        "\n",
        "Below, we will plot each of the following categorical features for survived vs did_not_survive to examine which feature implies the passenger was more likely to survive. \n",
        "\n",
        "The features are:\n",
        "\n",
        "Pclass                  \n",
        "Sex                        \n",
        "SibSp          \n",
        "Parch                         \n",
        "Cabin          \n",
        "Embarked\n",
        "\n",
        "For the rest of the features, we will examine them after filling out the missing values using feature engineering in the next section"
      ]
    },
    {
      "metadata": {
        "id": "GHk19DbnVEhL",
        "colab_type": "code",
        "colab": {}
      },
      "cell_type": "code",
      "source": [
        "def chart(feature):\n",
        "    survived = train[train['Survived']==1][feature].value_counts()\n",
        "    dead = train[train['Survived']==0][feature].value_counts()\n",
        "    df = pd.DataFrame([survived,dead])\n",
        "    df.index = ['Survived','Dead']\n",
        "    df.plot(kind='bar',stacked=True, figsize=(10,5))"
      ],
      "execution_count": 0,
      "outputs": []
    },
    {
      "metadata": {
        "id": "ahWhGYtdVkhN",
        "colab_type": "text"
      },
      "cell_type": "markdown",
      "source": [
        "**Bar Graph for Categorical Feature: Sex **"
      ]
    },
    {
      "metadata": {
        "id": "f4sAurdXVo6H",
        "colab_type": "code",
        "outputId": "5849972d-8138-4d44-d22e-ac38e80c1f46",
        "colab": {
          "base_uri": "https://localhost:8080/",
          "height": 348
        }
      },
      "cell_type": "code",
      "source": [
        "chart('Sex')"
      ],
      "execution_count": 13,
      "outputs": [
        {
          "output_type": "display_data",
          "data": {
            "image/png": "[encoded data removed]",
            "text/plain": [
              "<Figure size 720x360 with 1 Axes>"
            ]
          },
          "metadata": {
            "tags": []
          }
        }
      ]
    },
    {
      "metadata": {
        "id": "HeMHO9GjV0ZF",
        "colab_type": "text"
      },
      "cell_type": "markdown",
      "source": [
        "By examining the plot generated from the code above, we can see that female is more likely to survive than male"
      ]
    },
    {
      "metadata": {
        "id": "nrKN1UWvWJo_",
        "colab_type": "text"
      },
      "cell_type": "markdown",
      "source": [
        "**Bar Graph for Categorical Feature: Pclass**"
      ]
    },
    {
      "metadata": {
        "id": "CYpFVU7wWGlo",
        "colab_type": "code",
        "colab": {
          "base_uri": "https://localhost:8080/",
          "height": 348
        },
        "outputId": "28726b85-ca49-4fec-bf22-0d590dc769d7"
      },
      "cell_type": "code",
      "source": [
        "chart('Pclass')"
      ],
      "execution_count": 14,
      "outputs": [
        {
          "output_type": "display_data",
          "data": {
            "image/png": "[encoded data removed]",
            "text/plain": [
              "<Figure size 720x360 with 1 Axes>"
            ]
          },
          "metadata": {
            "tags": []
          }
        }
      ]
    },
    {
      "metadata": {
        "id": "_eTZ1ZQ5Wd6D",
        "colab_type": "text"
      },
      "cell_type": "markdown",
      "source": [
        "By examining the plot generated from the code above, we can see that 1st class was the most likely to survive between all class while third class was more likely to die between all other classes. Reasons can be that third class cabins are on the lower levels of the ship while first class are on the higher levels. "
      ]
    },
    {
      "metadata": {
        "id": "rLghO_C-XEdB",
        "colab_type": "text"
      },
      "cell_type": "markdown",
      "source": [
        "**Bar Graph for Categorical Feature: SibSp**"
      ]
    },
    {
      "metadata": {
        "id": "6uFhNUWcXLRR",
        "colab_type": "code",
        "colab": {
          "base_uri": "https://localhost:8080/",
          "height": 348
        },
        "outputId": "08f49001-8f84-424d-cc6f-519507148d29"
      },
      "cell_type": "code",
      "source": [
        "chart('SibSp')"
      ],
      "execution_count": 15,
      "outputs": [
        {
          "output_type": "display_data",
          "data": {
            "image/png": "[encoded data removed]",
            "text/plain": [
              "<Figure size 720x360 with 1 Axes>"
            ]
          },
          "metadata": {
            "tags": []
          }
        }
      ]
    },
    {
      "metadata": {
        "id": "LAU-hJfRXll8",
        "colab_type": "text"
      },
      "cell_type": "markdown",
      "source": [
        "By examining the plot generated from the code above, we can see that people who had more than 2 siblings or spouse were more likley to survive than those with less than 2 or none"
      ]
    },
    {
      "metadata": {
        "id": "VwgZSmO9X6Q9",
        "colab_type": "text"
      },
      "cell_type": "markdown",
      "source": [
        "**Bar Graph for Categorical Feature: Parch**"
      ]
    },
    {
      "metadata": {
        "id": "cFOGy1i1X9r4",
        "colab_type": "code",
        "colab": {
          "base_uri": "https://localhost:8080/",
          "height": 348
        },
        "outputId": "86e16c1b-8020-4f50-b4c0-db54402bd97c"
      },
      "cell_type": "code",
      "source": [
        "chart('Parch')"
      ],
      "execution_count": 16,
      "outputs": [
        {
          "output_type": "display_data",
          "data": {
            "image/png": "[encoded data removed]",
            "text/plain": [
              "<Figure size 720x360 with 1 Axes>"
            ]
          },
          "metadata": {
            "tags": []
          }
        }
      ]
    },
    {
      "metadata": {
        "id": "KhTfsdcAYCO8",
        "colab_type": "text"
      },
      "cell_type": "markdown",
      "source": [
        "By examining the plot generated from the code above, we can see that people who had more than 2 parents or children were more likley to survive than those with less than 2 or none"
      ]
    },
    {
      "metadata": {
        "id": "9SZ4YuqqYYjN",
        "colab_type": "text"
      },
      "cell_type": "markdown",
      "source": [
        "**Bar Graph for Categorical Feature: Embarked**"
      ]
    },
    {
      "metadata": {
        "id": "2kLXMD2gYeiV",
        "colab_type": "code",
        "colab": {
          "base_uri": "https://localhost:8080/",
          "height": 348
        },
        "outputId": "2886bf25-256b-4507-997e-c81287e23923"
      },
      "cell_type": "code",
      "source": [
        "chart('Embarked')"
      ],
      "execution_count": 17,
      "outputs": [
        {
          "output_type": "display_data",
          "data": {
            "image/png": "[encoded data removed]",
            "text/plain": [
              "<Figure size 720x360 with 1 Axes>"
            ]
          },
          "metadata": {
            "tags": []
          }
        }
      ]
    },
    {
      "metadata": {
        "id": "isYGYgzSYh8e",
        "colab_type": "text"
      },
      "cell_type": "markdown",
      "source": [
        "By examining the plot generated from the code above, we can see that people who embarked from port C more likely survived than those from ports S and Q. This could be becuase port C has a higher ratio of people from the higher class than the other ports"
      ]
    },
    {
      "metadata": {
        "id": "rulUwAgZZG3N",
        "colab_type": "text"
      },
      "cell_type": "markdown",
      "source": [
        "# Feature Engineering\n",
        "\n",
        "In this section, we will be using the domain knowledge we have of the data set to create feature vectors to use in the machine learning algorithms. The main outcomes we want from this section is to fill out missing fields, change texts to numerical values to use in the machine learning classifier (eg. change Sex from female/male to 0/1) and modify and extract data from non informative features (eg. extract title 'Mr\" from Name to get the Sex of the passenger').\n",
        "\n",
        "The feature vector contains the numerical features that represent the object of interest. This allows us to have a numerical represetation of objects which means we can do processing and statitistical analysis on the information we have. More information about feature vectors can be found on the [Feature wikipedia](https://en.m.wikipedia.org/wiki/Feature_(machine_learning) page. \n",
        "\n",
        "We will do our feature engineering on both the train and test datasets to fill in the missing information in both conisistently. This will be done by combining the datasets."
      ]
    },
    {
      "metadata": {
        "id": "V0FCBUAOdvrJ",
        "colab_type": "text"
      },
      "cell_type": "markdown",
      "source": [
        "**Name Feature Engineering**\n",
        "\n",
        "we will extract the title from the name feature to determine the sex of the passenger and their marital status."
      ]
    },
    {
      "metadata": {
        "id": "DGE-WgOkbRgT",
        "colab_type": "code",
        "colab": {}
      },
      "cell_type": "code",
      "source": [
        "train_test_data = [train, test] \n",
        "\n",
        "for dataset in train_test_data:\n",
        "    dataset['Title'] = dataset['Name'].str.extract(' ([A-Za-z]+)\\.', expand=False)"
      ],
      "execution_count": 0,
      "outputs": []
    },
    {
      "metadata": {
        "id": "8KHWvR43b55V",
        "colab_type": "text"
      },
      "cell_type": "markdown",
      "source": [
        "We will display the number of occurences of each differnt title in the name feature in the code cell below"
      ]
    },
    {
      "metadata": {
        "id": "WfBstpgscG3N",
        "colab_type": "code",
        "colab": {
          "base_uri": "https://localhost:8080/",
          "height": 334
        },
        "outputId": "e6bc0994-8a77-4970-90b9-bc8ba09a4d84"
      },
      "cell_type": "code",
      "source": [
        "train['Title'].value_counts()"
      ],
      "execution_count": 19,
      "outputs": [
        {
          "output_type": "execute_result",
          "data": {
            "text/plain": [
              "Mr          517\n",
              "Miss        182\n",
              "Mrs         125\n",
              "Master       40\n",
              "Dr            7\n",
              "Rev           6\n",
              "Mlle          2\n",
              "Col           2\n",
              "Major         2\n",
              "Capt          1\n",
              "Mme           1\n",
              "Lady          1\n",
              "Jonkheer      1\n",
              "Sir           1\n",
              "Don           1\n",
              "Countess      1\n",
              "Ms            1\n",
              "Name: Title, dtype: int64"
            ]
          },
          "metadata": {
            "tags": []
          },
          "execution_count": 19
        }
      ]
    },
    {
      "metadata": {
        "id": "cjVxOZ2ydUKB",
        "colab_type": "code",
        "colab": {
          "base_uri": "https://localhost:8080/",
          "height": 193
        },
        "outputId": "6236821f-ec05-452e-defc-552b57fb57d8"
      },
      "cell_type": "code",
      "source": [
        "test['Title'].value_counts()"
      ],
      "execution_count": 20,
      "outputs": [
        {
          "output_type": "execute_result",
          "data": {
            "text/plain": [
              "Mr        240\n",
              "Miss       78\n",
              "Mrs        72\n",
              "Master     21\n",
              "Rev         2\n",
              "Col         2\n",
              "Dr          1\n",
              "Ms          1\n",
              "Dona        1\n",
              "Name: Title, dtype: int64"
            ]
          },
          "metadata": {
            "tags": []
          },
          "execution_count": 20
        }
      ]
    },
    {
      "metadata": {
        "id": "-LhVSOkscXEl",
        "colab_type": "text"
      },
      "cell_type": "markdown",
      "source": [
        "By running the two code cells above, we can see the first three values Mr, Miss and Mrs are usefull in determining the gender of the passenger. The remaining values are not indicative and therfore will be ignored.\n",
        "\n",
        "To be able to classify the titles, we wall map them to the follwoing numerical values from 0-3 for Ms, Miss, Mrs and everything else grouped together, repectively. "
      ]
    },
    {
      "metadata": {
        "id": "i0i96zgmeFiN",
        "colab_type": "code",
        "colab": {}
      },
      "cell_type": "code",
      "source": [
        "title_mapping = {\"Mr\": 0, \"Miss\": 1, \"Mrs\": 2, \n",
        "                 \"Master\": 3, \"Dr\": 3, \"Rev\": 3, \"Col\": 3, \"Major\": 3, \"Mlle\": 3,\"Countess\": 3,\n",
        "                 \"Ms\": 3, \"Lady\": 3, \"Jonkheer\": 3, \"Don\": 3, \"Dona\" : 3, \"Mme\": 3,\"Capt\": 3,\"Sir\": 3 }\n",
        "for dataset in train_test_data:\n",
        "    dataset['Title'] = dataset['Title'].map(title_mapping)"
      ],
      "execution_count": 0,
      "outputs": []
    },
    {
      "metadata": {
        "id": "2NS_gKRveQiJ",
        "colab_type": "text"
      },
      "cell_type": "markdown",
      "source": [
        "Now that we have extracted the title from the Name feaature in both data sets, we can drop the Name feature from the datasets and use the Title instead. this is done in the following code cell"
      ]
    },
    {
      "metadata": {
        "id": "JZMEcAfinaW-",
        "colab_type": "code",
        "colab": {}
      },
      "cell_type": "code",
      "source": [
        "train.drop('Name', axis=1, inplace=True)\n",
        "test.drop('Name', axis=1, inplace=True)"
      ],
      "execution_count": 0,
      "outputs": []
    },
    {
      "metadata": {
        "id": "R5b5IO5VnvP1",
        "colab_type": "text"
      },
      "cell_type": "markdown",
      "source": [
        "The following code gives the bar chart of the survived vs did_not_survive for the different name titles that we have classified above. As we can see, blue (Mr) has a high chance to die while green and red (Miss and Mrs) have a higher chance to survive. This is consistent with our data analysis of sex Female vs Male previously."
      ]
    },
    {
      "metadata": {
        "id": "XgV0uwnjePyh",
        "colab_type": "code",
        "outputId": "32df8d0e-dc8f-4a05-da04-50b552bd838a",
        "colab": {
          "base_uri": "https://localhost:8080/",
          "height": 348
        }
      },
      "cell_type": "code",
      "source": [
        "chart('Title')"
      ],
      "execution_count": 23,
      "outputs": [
        {
          "output_type": "display_data",
          "data": {
            "image/png": "[encoded data removed]",
            "text/plain": [
              "<Figure size 720x360 with 1 Axes>"
            ]
          },
          "metadata": {
            "tags": []
          }
        }
      ]
    },
    {
      "metadata": {
        "id": "QV4uYDX8n2zo",
        "colab_type": "text"
      },
      "cell_type": "markdown",
      "source": [
        "We can now look at the first 5 entries for each data set with the Name feature dropped and the Title feature added instead"
      ]
    },
    {
      "metadata": {
        "id": "7cbVbn0OoHQM",
        "colab_type": "code",
        "outputId": "b47e9e60-99f4-4e94-c475-727382cf6c2f",
        "colab": {
          "base_uri": "https://localhost:8080/",
          "height": 203
        }
      },
      "cell_type": "code",
      "source": [
        "train.head()"
      ],
      "execution_count": 24,
      "outputs": [
        {
          "output_type": "execute_result",
          "data": {
            "text/html": [
              "<div>\n",
              "<style scoped>\n",
              "    .dataframe tbody tr th:only-of-type {\n",
              "        vertical-align: middle;\n",
              "    }\n",
              "\n",
              "    .dataframe tbody tr th {\n",
              "        vertical-align: top;\n",
              "    }\n",
              "\n",
              "    .dataframe thead th {\n",
              "        text-align: right;\n",
              "    }\n",
              "</style>\n",
              "<table border=\"1\" class=\"dataframe\">\n",
              "  <thead>\n",
              "    <tr style=\"text-align: right;\">\n",
              "      <th></th>\n",
              "      <th>PassengerId</th>\n",
              "      <th>Survived</th>\n",
              "      <th>Pclass</th>\n",
              "      <th>Sex</th>\n",
              "      <th>Age</th>\n",
              "      <th>SibSp</th>\n",
              "      <th>Parch</th>\n",
              "      <th>Ticket</th>\n",
              "      <th>Fare</th>\n",
              "      <th>Cabin</th>\n",
              "      <th>Embarked</th>\n",
              "      <th>Title</th>\n",
              "    </tr>\n",
              "  </thead>\n",
              "  <tbody>\n",
              "    <tr>\n",
              "      <th>0</th>\n",
              "      <td>1</td>\n",
              "      <td>0</td>\n",
              "      <td>3</td>\n",
              "      <td>male</td>\n",
              "      <td>22.0</td>\n",
              "      <td>1</td>\n",
              "      <td>0</td>\n",
              "      <td>A/5 21171</td>\n",
              "      <td>7.2500</td>\n",
              "      <td>NaN</td>\n",
              "      <td>S</td>\n",
              "      <td>0</td>\n",
              "    </tr>\n",
              "    <tr>\n",
              "      <th>1</th>\n",
              "      <td>2</td>\n",
              "      <td>1</td>\n",
              "      <td>1</td>\n",
              "      <td>female</td>\n",
              "      <td>38.0</td>\n",
              "      <td>1</td>\n",
              "      <td>0</td>\n",
              "      <td>PC 17599</td>\n",
              "      <td>71.2833</td>\n",
              "      <td>C85</td>\n",
              "      <td>C</td>\n",
              "      <td>2</td>\n",
              "    </tr>\n",
              "    <tr>\n",
              "      <th>2</th>\n",
              "      <td>3</td>\n",
              "      <td>1</td>\n",
              "      <td>3</td>\n",
              "      <td>female</td>\n",
              "      <td>26.0</td>\n",
              "      <td>0</td>\n",
              "      <td>0</td>\n",
              "      <td>STON/O2. 3101282</td>\n",
              "      <td>7.9250</td>\n",
              "      <td>NaN</td>\n",
              "      <td>S</td>\n",
              "      <td>1</td>\n",
              "    </tr>\n",
              "    <tr>\n",
              "      <th>3</th>\n",
              "      <td>4</td>\n",
              "      <td>1</td>\n",
              "      <td>1</td>\n",
              "      <td>female</td>\n",
              "      <td>35.0</td>\n",
              "      <td>1</td>\n",
              "      <td>0</td>\n",
              "      <td>113803</td>\n",
              "      <td>53.1000</td>\n",
              "      <td>C123</td>\n",
              "      <td>S</td>\n",
              "      <td>2</td>\n",
              "    </tr>\n",
              "    <tr>\n",
              "      <th>4</th>\n",
              "      <td>5</td>\n",
              "      <td>0</td>\n",
              "      <td>3</td>\n",
              "      <td>male</td>\n",
              "      <td>35.0</td>\n",
              "      <td>0</td>\n",
              "      <td>0</td>\n",
              "      <td>373450</td>\n",
              "      <td>8.0500</td>\n",
              "      <td>NaN</td>\n",
              "      <td>S</td>\n",
              "      <td>0</td>\n",
              "    </tr>\n",
              "  </tbody>\n",
              "</table>\n",
              "</div>"
            ],
            "text/plain": [
              "   PassengerId  Survived  Pclass     Sex   Age  SibSp  Parch  \\\n",
              "0            1         0       3    male  22.0      1      0   \n",
              "1            2         1       1  female  38.0      1      0   \n",
              "2            3         1       3  female  26.0      0      0   \n",
              "3            4         1       1  female  35.0      1      0   \n",
              "4            5         0       3    male  35.0      0      0   \n",
              "\n",
              "             Ticket     Fare Cabin Embarked  Title  \n",
              "0         A/5 21171   7.2500   NaN        S      0  \n",
              "1          PC 17599  71.2833   C85        C      2  \n",
              "2  STON/O2. 3101282   7.9250   NaN        S      1  \n",
              "3            113803  53.1000  C123        S      2  \n",
              "4            373450   8.0500   NaN        S      0  "
            ]
          },
          "metadata": {
            "tags": []
          },
          "execution_count": 24
        }
      ]
    },
    {
      "metadata": {
        "id": "kiAfVQaRoJIG",
        "colab_type": "code",
        "colab": {
          "base_uri": "https://localhost:8080/",
          "height": 203
        },
        "outputId": "9d134d30-c938-4f2a-801d-802bce8fa331"
      },
      "cell_type": "code",
      "source": [
        "test.head()"
      ],
      "execution_count": 25,
      "outputs": [
        {
          "output_type": "execute_result",
          "data": {
            "text/html": [
              "<div>\n",
              "<style scoped>\n",
              "    .dataframe tbody tr th:only-of-type {\n",
              "        vertical-align: middle;\n",
              "    }\n",
              "\n",
              "    .dataframe tbody tr th {\n",
              "        vertical-align: top;\n",
              "    }\n",
              "\n",
              "    .dataframe thead th {\n",
              "        text-align: right;\n",
              "    }\n",
              "</style>\n",
              "<table border=\"1\" class=\"dataframe\">\n",
              "  <thead>\n",
              "    <tr style=\"text-align: right;\">\n",
              "      <th></th>\n",
              "      <th>PassengerId</th>\n",
              "      <th>Pclass</th>\n",
              "      <th>Sex</th>\n",
              "      <th>Age</th>\n",
              "      <th>SibSp</th>\n",
              "      <th>Parch</th>\n",
              "      <th>Ticket</th>\n",
              "      <th>Fare</th>\n",
              "      <th>Cabin</th>\n",
              "      <th>Embarked</th>\n",
              "      <th>Title</th>\n",
              "    </tr>\n",
              "  </thead>\n",
              "  <tbody>\n",
              "    <tr>\n",
              "      <th>0</th>\n",
              "      <td>892</td>\n",
              "      <td>3</td>\n",
              "      <td>male</td>\n",
              "      <td>34.5</td>\n",
              "      <td>0</td>\n",
              "      <td>0</td>\n",
              "      <td>330911</td>\n",
              "      <td>7.8292</td>\n",
              "      <td>NaN</td>\n",
              "      <td>Q</td>\n",
              "      <td>0</td>\n",
              "    </tr>\n",
              "    <tr>\n",
              "      <th>1</th>\n",
              "      <td>893</td>\n",
              "      <td>3</td>\n",
              "      <td>female</td>\n",
              "      <td>47.0</td>\n",
              "      <td>1</td>\n",
              "      <td>0</td>\n",
              "      <td>363272</td>\n",
              "      <td>7.0000</td>\n",
              "      <td>NaN</td>\n",
              "      <td>S</td>\n",
              "      <td>2</td>\n",
              "    </tr>\n",
              "    <tr>\n",
              "      <th>2</th>\n",
              "      <td>894</td>\n",
              "      <td>2</td>\n",
              "      <td>male</td>\n",
              "      <td>62.0</td>\n",
              "      <td>0</td>\n",
              "      <td>0</td>\n",
              "      <td>240276</td>\n",
              "      <td>9.6875</td>\n",
              "      <td>NaN</td>\n",
              "      <td>Q</td>\n",
              "      <td>0</td>\n",
              "    </tr>\n",
              "    <tr>\n",
              "      <th>3</th>\n",
              "      <td>895</td>\n",
              "      <td>3</td>\n",
              "      <td>male</td>\n",
              "      <td>27.0</td>\n",
              "      <td>0</td>\n",
              "      <td>0</td>\n",
              "      <td>315154</td>\n",
              "      <td>8.6625</td>\n",
              "      <td>NaN</td>\n",
              "      <td>S</td>\n",
              "      <td>0</td>\n",
              "    </tr>\n",
              "    <tr>\n",
              "      <th>4</th>\n",
              "      <td>896</td>\n",
              "      <td>3</td>\n",
              "      <td>female</td>\n",
              "      <td>22.0</td>\n",
              "      <td>1</td>\n",
              "      <td>1</td>\n",
              "      <td>3101298</td>\n",
              "      <td>12.2875</td>\n",
              "      <td>NaN</td>\n",
              "      <td>S</td>\n",
              "      <td>2</td>\n",
              "    </tr>\n",
              "  </tbody>\n",
              "</table>\n",
              "</div>"
            ],
            "text/plain": [
              "   PassengerId  Pclass     Sex   Age  SibSp  Parch   Ticket     Fare Cabin  \\\n",
              "0          892       3    male  34.5      0      0   330911   7.8292   NaN   \n",
              "1          893       3  female  47.0      1      0   363272   7.0000   NaN   \n",
              "2          894       2    male  62.0      0      0   240276   9.6875   NaN   \n",
              "3          895       3    male  27.0      0      0   315154   8.6625   NaN   \n",
              "4          896       3  female  22.0      1      1  3101298  12.2875   NaN   \n",
              "\n",
              "  Embarked  Title  \n",
              "0        Q      0  \n",
              "1        S      2  \n",
              "2        Q      0  \n",
              "3        S      0  \n",
              "4        S      2  "
            ]
          },
          "metadata": {
            "tags": []
          },
          "execution_count": 25
        }
      ]
    },
    {
      "metadata": {
        "id": "wRprpNHQoP9T",
        "colab_type": "text"
      },
      "cell_type": "markdown",
      "source": [
        "**Sex Feature Engineering**\n",
        "\n",
        "We will map the passenger's sex as 0 if male and 1 if female in both data sets to have numerical values. "
      ]
    },
    {
      "metadata": {
        "id": "lEJuBdwKpY6W",
        "colab_type": "code",
        "colab": {}
      },
      "cell_type": "code",
      "source": [
        "sex_mapping = {\"male\": 0, \"female\": 1}\n",
        "for dataset in train_test_data:\n",
        "    dataset['Sex'] = dataset['Sex'].map(sex_mapping)"
      ],
      "execution_count": 0,
      "outputs": []
    },
    {
      "metadata": {
        "id": "PeuUshF8pjoQ",
        "colab_type": "text"
      },
      "cell_type": "markdown",
      "source": [
        "The bar chart for the Sex feature can be seen by runnning the code in the following code cell, with 0 and 1 as the two values. Consistent with our previos findings, male are moe likely to die than female. "
      ]
    },
    {
      "metadata": {
        "id": "4blgYptOp07t",
        "colab_type": "code",
        "colab": {
          "base_uri": "https://localhost:8080/",
          "height": 348
        },
        "outputId": "222d4502-7ade-45a2-e913-d6353ecabf8b"
      },
      "cell_type": "code",
      "source": [
        "chart('Sex')"
      ],
      "execution_count": 27,
      "outputs": [
        {
          "output_type": "display_data",
          "data": {
            "image/png": "[encoded data removed]",
            "text/plain": [
              "<Figure size 720x360 with 1 Axes>"
            ]
          },
          "metadata": {
            "tags": []
          }
        }
      ]
    },
    {
      "metadata": {
        "id": "3Ct12rmcp9Tu",
        "colab_type": "text"
      },
      "cell_type": "markdown",
      "source": [
        "**Age Feature Engineering**\n",
        "\n",
        "There are multiple age values missing in the data set we have. We don't have any other features available to fill in these missing values so a close assumption should be made to fill in these value. We can use the median or average of the Age in the data set to fill in the null values. We will use the median age value of that Title group to get a close approximation. "
      ]
    },
    {
      "metadata": {
        "id": "BCuJlZ67tOKj",
        "colab_type": "code",
        "colab": {}
      },
      "cell_type": "code",
      "source": [
        "train[\"Age\"].fillna(train.groupby(\"Title\")[\"Age\"].transform(\"median\"), inplace=True)\n",
        "test[\"Age\"].fillna(test.groupby(\"Title\")[\"Age\"].transform(\"median\"), inplace=True)"
      ],
      "execution_count": 0,
      "outputs": []
    },
    {
      "metadata": {
        "id": "_Ia4pbuAzltH",
        "colab_type": "text"
      },
      "cell_type": "markdown",
      "source": [
        "Need to explain"
      ]
    },
    {
      "metadata": {
        "id": "lL97cpv8tpQC",
        "colab_type": "code",
        "colab": {
          "base_uri": "https://localhost:8080/",
          "height": 1108
        },
        "outputId": "8407402f-4afb-4407-a048-81d3c8ebeca3"
      },
      "cell_type": "code",
      "source": [
        "train.groupby(\"Title\")[\"Age\"].transform(\"median\")"
      ],
      "execution_count": 29,
      "outputs": [
        {
          "output_type": "execute_result",
          "data": {
            "text/plain": [
              "0      30.0\n",
              "1      35.0\n",
              "2      21.0\n",
              "3      35.0\n",
              "4      30.0\n",
              "5      30.0\n",
              "6      30.0\n",
              "7       9.0\n",
              "8      35.0\n",
              "9      35.0\n",
              "10     21.0\n",
              "11     21.0\n",
              "12     30.0\n",
              "13     30.0\n",
              "14     21.0\n",
              "15     35.0\n",
              "16      9.0\n",
              "17     30.0\n",
              "18     35.0\n",
              "19     35.0\n",
              "20     30.0\n",
              "21     30.0\n",
              "22     21.0\n",
              "23     30.0\n",
              "24     21.0\n",
              "25     35.0\n",
              "26     30.0\n",
              "27     30.0\n",
              "28     21.0\n",
              "29     30.0\n",
              "       ... \n",
              "861    30.0\n",
              "862    35.0\n",
              "863    21.0\n",
              "864    30.0\n",
              "865    35.0\n",
              "866    21.0\n",
              "867    30.0\n",
              "868    30.0\n",
              "869     9.0\n",
              "870    30.0\n",
              "871    35.0\n",
              "872    30.0\n",
              "873    30.0\n",
              "874    35.0\n",
              "875    21.0\n",
              "876    30.0\n",
              "877    30.0\n",
              "878    30.0\n",
              "879    35.0\n",
              "880    35.0\n",
              "881    30.0\n",
              "882    21.0\n",
              "883    30.0\n",
              "884    30.0\n",
              "885    35.0\n",
              "886     9.0\n",
              "887    21.0\n",
              "888    21.0\n",
              "889    30.0\n",
              "890    30.0\n",
              "Name: Age, Length: 891, dtype: float64"
            ]
          },
          "metadata": {
            "tags": []
          },
          "execution_count": 29
        }
      ]
    },
    {
      "metadata": {
        "id": "0eopVxjstvRt",
        "colab_type": "text"
      },
      "cell_type": "markdown",
      "source": [
        "The following code gives a chart for age vs the survival status for that age group where 1 (green) is survived and 0 (blue) is did not survive. \n",
        "\n",
        "As we can see from the graph, passengers upto ~16 years old have a higher chance to survive, passengers  between ~24 years old and ~33 years old have a higher chance to die, passengers between ~33 years old and ~42 years old have a higher chance to survive, passengers between ~42 years old and ~47 years old have a higher chance to die, passengers between ~47 years old and ~60 years old have a higher chance to survive and passenger 60+ years old have a higher chance to die\n",
        "\n",
        "To get a closer look on the graph, the code that follows zooms into the different slices of the graph. "
      ]
    },
    {
      "metadata": {
        "id": "udP0k8O0zrxa",
        "colab_type": "code",
        "colab": {
          "base_uri": "https://localhost:8080/",
          "height": 221
        },
        "outputId": "804e948f-14c4-422e-c56f-c04cfab63aea"
      },
      "cell_type": "code",
      "source": [
        "facet = ans.FacetGrid(train, hue=\"Survived\",aspect=4)\n",
        "facet.map(ans.kdeplot,'Age',shade= True)\n",
        "facet.set(xlim=(0, train['Age'].max()))\n",
        "facet.add_legend()\n",
        " \n",
        "plt.show()"
      ],
      "execution_count": 30,
      "outputs": [
        {
          "output_type": "display_data",
          "data": {
            "image/png": "[encoded data removed]",
            "text/plain": [
              "<Figure size 908.75x216 with 1 Axes>"
            ]
          },
          "metadata": {
            "tags": []
          }
        }
      ]
    },
    {
      "metadata": {
        "id": "DSVrq8Ge2jZI",
        "colab_type": "text"
      },
      "cell_type": "markdown",
      "source": [
        "Zooming from 0 to 20 years old"
      ]
    },
    {
      "metadata": {
        "id": "6FreSx1X2mwp",
        "colab_type": "code",
        "colab": {
          "base_uri": "https://localhost:8080/",
          "height": 239
        },
        "outputId": "e3e72462-c038-4d92-f1fe-8f95b87466af"
      },
      "cell_type": "code",
      "source": [
        "facet = ans.FacetGrid(train, hue=\"Survived\",aspect=4)\n",
        "facet.map(ans.kdeplot,'Age',shade= True)\n",
        "facet.set(xlim=(0, train['Age'].max()))\n",
        "facet.add_legend()\n",
        "plt.xlim(0, 20)"
      ],
      "execution_count": 31,
      "outputs": [
        {
          "output_type": "execute_result",
          "data": {
            "text/plain": [
              "(0, 20)"
            ]
          },
          "metadata": {
            "tags": []
          },
          "execution_count": 31
        },
        {
          "output_type": "display_data",
          "data": {
            "image/png": "[encoded data removed]",
            "text/plain": [
              "<Figure size 908.75x216 with 1 Axes>"
            ]
          },
          "metadata": {
            "tags": []
          }
        }
      ]
    },
    {
      "metadata": {
        "id": "Sk2YKGZi2s-t",
        "colab_type": "text"
      },
      "cell_type": "markdown",
      "source": [
        "Zooming from 20 to 40 years old"
      ]
    },
    {
      "metadata": {
        "id": "hcfTnYD82zXc",
        "colab_type": "code",
        "colab": {
          "base_uri": "https://localhost:8080/",
          "height": 239
        },
        "outputId": "14fe2432-8625-476f-d7b1-6f6cb312586f"
      },
      "cell_type": "code",
      "source": [
        "facet = ans.FacetGrid(train, hue=\"Survived\",aspect=4)\n",
        "facet.map(ans.kdeplot,'Age',shade= True)\n",
        "facet.set(xlim=(0, train['Age'].max()))\n",
        "facet.add_legend()\n",
        "plt.xlim(20, 40)"
      ],
      "execution_count": 32,
      "outputs": [
        {
          "output_type": "execute_result",
          "data": {
            "text/plain": [
              "(20, 40)"
            ]
          },
          "metadata": {
            "tags": []
          },
          "execution_count": 32
        },
        {
          "output_type": "display_data",
          "data": {
            "image/png": "[encoded data removed]",
            "text/plain": [
              "<Figure size 908.75x216 with 1 Axes>"
            ]
          },
          "metadata": {
            "tags": []
          }
        }
      ]
    },
    {
      "metadata": {
        "id": "owgQelPm26cy",
        "colab_type": "text"
      },
      "cell_type": "markdown",
      "source": [
        "Zooming from 40 to 60 years old"
      ]
    },
    {
      "metadata": {
        "id": "YTu25Evs2_bF",
        "colab_type": "code",
        "colab": {
          "base_uri": "https://localhost:8080/",
          "height": 239
        },
        "outputId": "986b36a9-d2bd-45a2-eb7c-8e9f5ff33087"
      },
      "cell_type": "code",
      "source": [
        "facet = ans.FacetGrid(train, hue=\"Survived\",aspect=4)\n",
        "facet.map(ans.kdeplot,'Age',shade= True)\n",
        "facet.set(xlim=(0, train['Age'].max()))\n",
        "facet.add_legend()\n",
        "plt.xlim(40, 60)"
      ],
      "execution_count": 33,
      "outputs": [
        {
          "output_type": "execute_result",
          "data": {
            "text/plain": [
              "(40, 60)"
            ]
          },
          "metadata": {
            "tags": []
          },
          "execution_count": 33
        },
        {
          "output_type": "display_data",
          "data": {
            "image/png": "[encoded data removed]",
            "text/plain": [
              "<Figure size 908.75x216 with 1 Axes>"
            ]
          },
          "metadata": {
            "tags": []
          }
        }
      ]
    },
    {
      "metadata": {
        "id": "pG2LBHR93GpA",
        "colab_type": "text"
      },
      "cell_type": "markdown",
      "source": [
        "Zooming from 60 to 80 year old"
      ]
    },
    {
      "metadata": {
        "id": "ojKoangU3JB7",
        "colab_type": "code",
        "colab": {
          "base_uri": "https://localhost:8080/",
          "height": 239
        },
        "outputId": "ae98b8c0-54b8-4b71-949f-ecf4640640e6"
      },
      "cell_type": "code",
      "source": [
        "facet = ans.FacetGrid(train, hue=\"Survived\",aspect=4)\n",
        "facet.map(ans.kdeplot,'Age',shade= True)\n",
        "facet.set(xlim=(0, train['Age'].max()))\n",
        "facet.add_legend()\n",
        "plt.xlim(60, 80)"
      ],
      "execution_count": 34,
      "outputs": [
        {
          "output_type": "execute_result",
          "data": {
            "text/plain": [
              "(60, 80)"
            ]
          },
          "metadata": {
            "tags": []
          },
          "execution_count": 34
        },
        {
          "output_type": "display_data",
          "data": {
            "image/png": "[encoded data removed]",
            "text/plain": [
              "<Figure size 908.75x216 with 1 Axes>"
            ]
          },
          "metadata": {
            "tags": []
          }
        }
      ]
    },
    {
      "metadata": {
        "id": "749n1-R-3aRZ",
        "colab_type": "text"
      },
      "cell_type": "markdown",
      "source": [
        "Grouping Age into Categories\n",
        "\n",
        "Based on our observations above, different age categories have different chances of survival. We will group numercial age values to numerical categories as following:\n",
        "\n",
        "0: 0 <= Age <= 16\n",
        "\n",
        "1: 16< Age <= 26\n",
        "\n",
        "2: 26 < Age <= 36\n",
        "\n",
        "3: 36 < Age <= 62\n",
        "\n",
        "4: 62 < Age"
      ]
    },
    {
      "metadata": {
        "id": "qd8Kc1Qu5BJD",
        "colab_type": "code",
        "colab": {}
      },
      "cell_type": "code",
      "source": [
        "for dataset in train_test_data:\n",
        "    dataset.loc[ dataset['Age'] <= 16, 'Age'] = 0,\n",
        "    dataset.loc[(dataset['Age'] > 16) & (dataset['Age'] <= 26), 'Age'] = 1,\n",
        "    dataset.loc[(dataset['Age'] > 26) & (dataset['Age'] <= 36), 'Age'] = 2,\n",
        "    dataset.loc[(dataset['Age'] > 36) & (dataset['Age'] <= 62), 'Age'] = 3,\n",
        "    dataset.loc[ dataset['Age'] > 62, 'Age'] = 4"
      ],
      "execution_count": 0,
      "outputs": []
    },
    {
      "metadata": {
        "id": "swqomHiE5I61",
        "colab_type": "text"
      },
      "cell_type": "markdown",
      "source": [
        " We can see by displaying the first five entries in our training data set, the Age feature now has the 0-4 category value we have assigned above."
      ]
    },
    {
      "metadata": {
        "id": "3ZhHMRvD5s3o",
        "colab_type": "code",
        "colab": {
          "base_uri": "https://localhost:8080/",
          "height": 203
        },
        "outputId": "649e2702-0ab7-471b-cec4-ff43f48d976e"
      },
      "cell_type": "code",
      "source": [
        "train.head()"
      ],
      "execution_count": 36,
      "outputs": [
        {
          "output_type": "execute_result",
          "data": {
            "text/html": [
              "<div>\n",
              "<style scoped>\n",
              "    .dataframe tbody tr th:only-of-type {\n",
              "        vertical-align: middle;\n",
              "    }\n",
              "\n",
              "    .dataframe tbody tr th {\n",
              "        vertical-align: top;\n",
              "    }\n",
              "\n",
              "    .dataframe thead th {\n",
              "        text-align: right;\n",
              "    }\n",
              "</style>\n",
              "<table border=\"1\" class=\"dataframe\">\n",
              "  <thead>\n",
              "    <tr style=\"text-align: right;\">\n",
              "      <th></th>\n",
              "      <th>PassengerId</th>\n",
              "      <th>Survived</th>\n",
              "      <th>Pclass</th>\n",
              "      <th>Sex</th>\n",
              "      <th>Age</th>\n",
              "      <th>SibSp</th>\n",
              "      <th>Parch</th>\n",
              "      <th>Ticket</th>\n",
              "      <th>Fare</th>\n",
              "      <th>Cabin</th>\n",
              "      <th>Embarked</th>\n",
              "      <th>Title</th>\n",
              "    </tr>\n",
              "  </thead>\n",
              "  <tbody>\n",
              "    <tr>\n",
              "      <th>0</th>\n",
              "      <td>1</td>\n",
              "      <td>0</td>\n",
              "      <td>3</td>\n",
              "      <td>0</td>\n",
              "      <td>1.0</td>\n",
              "      <td>1</td>\n",
              "      <td>0</td>\n",
              "      <td>A/5 21171</td>\n",
              "      <td>7.2500</td>\n",
              "      <td>NaN</td>\n",
              "      <td>S</td>\n",
              "      <td>0</td>\n",
              "    </tr>\n",
              "    <tr>\n",
              "      <th>1</th>\n",
              "      <td>2</td>\n",
              "      <td>1</td>\n",
              "      <td>1</td>\n",
              "      <td>1</td>\n",
              "      <td>3.0</td>\n",
              "      <td>1</td>\n",
              "      <td>0</td>\n",
              "      <td>PC 17599</td>\n",
              "      <td>71.2833</td>\n",
              "      <td>C85</td>\n",
              "      <td>C</td>\n",
              "      <td>2</td>\n",
              "    </tr>\n",
              "    <tr>\n",
              "      <th>2</th>\n",
              "      <td>3</td>\n",
              "      <td>1</td>\n",
              "      <td>3</td>\n",
              "      <td>1</td>\n",
              "      <td>1.0</td>\n",
              "      <td>0</td>\n",
              "      <td>0</td>\n",
              "      <td>STON/O2. 3101282</td>\n",
              "      <td>7.9250</td>\n",
              "      <td>NaN</td>\n",
              "      <td>S</td>\n",
              "      <td>1</td>\n",
              "    </tr>\n",
              "    <tr>\n",
              "      <th>3</th>\n",
              "      <td>4</td>\n",
              "      <td>1</td>\n",
              "      <td>1</td>\n",
              "      <td>1</td>\n",
              "      <td>2.0</td>\n",
              "      <td>1</td>\n",
              "      <td>0</td>\n",
              "      <td>113803</td>\n",
              "      <td>53.1000</td>\n",
              "      <td>C123</td>\n",
              "      <td>S</td>\n",
              "      <td>2</td>\n",
              "    </tr>\n",
              "    <tr>\n",
              "      <th>4</th>\n",
              "      <td>5</td>\n",
              "      <td>0</td>\n",
              "      <td>3</td>\n",
              "      <td>0</td>\n",
              "      <td>2.0</td>\n",
              "      <td>0</td>\n",
              "      <td>0</td>\n",
              "      <td>373450</td>\n",
              "      <td>8.0500</td>\n",
              "      <td>NaN</td>\n",
              "      <td>S</td>\n",
              "      <td>0</td>\n",
              "    </tr>\n",
              "  </tbody>\n",
              "</table>\n",
              "</div>"
            ],
            "text/plain": [
              "   PassengerId  Survived  Pclass  Sex  Age  SibSp  Parch            Ticket  \\\n",
              "0            1         0       3    0  1.0      1      0         A/5 21171   \n",
              "1            2         1       1    1  3.0      1      0          PC 17599   \n",
              "2            3         1       3    1  1.0      0      0  STON/O2. 3101282   \n",
              "3            4         1       1    1  2.0      1      0            113803   \n",
              "4            5         0       3    0  2.0      0      0            373450   \n",
              "\n",
              "      Fare Cabin Embarked  Title  \n",
              "0   7.2500   NaN        S      0  \n",
              "1  71.2833   C85        C      2  \n",
              "2   7.9250   NaN        S      1  \n",
              "3  53.1000  C123        S      2  \n",
              "4   8.0500   NaN        S      0  "
            ]
          },
          "metadata": {
            "tags": []
          },
          "execution_count": 36
        }
      ]
    },
    {
      "metadata": {
        "id": "So-uOzOV57Hp",
        "colab_type": "text"
      },
      "cell_type": "markdown",
      "source": [
        "We can graph the bar chart for the differnt age groups to varify our observation of how likely a group age is to survive. Without grouping age ranges together, it will be very difficult to look at each age number alone and it will be difficult to classify. "
      ]
    },
    {
      "metadata": {
        "id": "WS-qsRIC55Zc",
        "colab_type": "code",
        "colab": {
          "base_uri": "https://localhost:8080/",
          "height": 348
        },
        "outputId": "098b5223-e43e-4e5a-db44-fd57ba90fdfb"
      },
      "cell_type": "code",
      "source": [
        "chart ('Age')"
      ],
      "execution_count": 37,
      "outputs": [
        {
          "output_type": "display_data",
          "data": {
            "image/png": "[encoded data removed]",
            "text/plain": [
              "<Figure size 720x360 with 1 Axes>"
            ]
          },
          "metadata": {
            "tags": []
          }
        }
      ]
    },
    {
      "metadata": {
        "id": "glDpsAJw8oJ7",
        "colab_type": "text"
      },
      "cell_type": "markdown",
      "source": [
        "**Embarked Feature Engineering**\n",
        "\n",
        "Embarked feature tells us where the passenger aborted the ship. Different cities can have different financial status and therefore one class can be more likely to abort from once city vs the other. We will first look at the charts for each port with the different classes that aborted at that port in the code cell below. As we can see, very few 1st and secod class passengers aborted from port Q. Over 50% from all classes aborted from port S. Therefore, we will fill in any missing Embarked value as S port. We will then change the text Embarked feature to a numerical value. "
      ]
    },
    {
      "metadata": {
        "id": "Xfk4SIHYAn9X",
        "colab_type": "code",
        "colab": {
          "base_uri": "https://localhost:8080/",
          "height": 370
        },
        "outputId": "8ae54df3-94eb-4252-b224-a066bff1daef"
      },
      "cell_type": "code",
      "source": [
        "Pclass1 = train[train['Pclass']==1]['Embarked'].value_counts()\n",
        "Pclass2 = train[train['Pclass']==2]['Embarked'].value_counts()\n",
        "Pclass3 = train[train['Pclass']==3]['Embarked'].value_counts()\n",
        "df = pd.DataFrame([Pclass1, Pclass2, Pclass3])\n",
        "df.index = ['1st class','2nd class', '3rd class']\n",
        "df.plot(kind='bar',stacked=True, figsize=(10,5))"
      ],
      "execution_count": 38,
      "outputs": [
        {
          "output_type": "execute_result",
          "data": {
            "text/plain": [
              "<matplotlib.axes._subplots.AxesSubplot at 0x7fcb28b701d0>"
            ]
          },
          "metadata": {
            "tags": []
          },
          "execution_count": 38
        },
        {
          "output_type": "display_data",
          "data": {
            "image/png": "[encoded data removed]",
            "text/plain": [
              "<Figure size 720x360 with 1 Axes>"
            ]
          },
          "metadata": {
            "tags": []
          }
        }
      ]
    },
    {
      "metadata": {
        "id": "o2RJr6aWBiZG",
        "colab_type": "code",
        "colab": {}
      },
      "cell_type": "code",
      "source": [
        "for dataset in train_test_data:\n",
        "    dataset['Embarked'] = dataset['Embarked'].fillna('S')"
      ],
      "execution_count": 0,
      "outputs": []
    },
    {
      "metadata": {
        "id": "lJjYthlaBpkK",
        "colab_type": "code",
        "colab": {}
      },
      "cell_type": "code",
      "source": [
        "embarked_mapping = {\"S\": 0, \"C\": 1, \"Q\": 2}\n",
        "for dataset in train_test_data:\n",
        "    dataset['Embarked'] = dataset['Embarked'].map(embarked_mapping)"
      ],
      "execution_count": 0,
      "outputs": []
    },
    {
      "metadata": {
        "id": "sLYq_4JECbdo",
        "colab_type": "text"
      },
      "cell_type": "markdown",
      "source": [
        "We can view the Embarked feature changed to a numerical value by running the code cell below. Most values will be 0 since \"S\" port counts for more than 50% of all Embarked values"
      ]
    },
    {
      "metadata": {
        "id": "I4l-q6XbBlzh",
        "colab_type": "code",
        "colab": {
          "base_uri": "https://localhost:8080/",
          "height": 203
        },
        "outputId": "7cc25e2d-c56f-49b4-bcec-ab57e234a054"
      },
      "cell_type": "code",
      "source": [
        "train.head()"
      ],
      "execution_count": 41,
      "outputs": [
        {
          "output_type": "execute_result",
          "data": {
            "text/html": [
              "<div>\n",
              "<style scoped>\n",
              "    .dataframe tbody tr th:only-of-type {\n",
              "        vertical-align: middle;\n",
              "    }\n",
              "\n",
              "    .dataframe tbody tr th {\n",
              "        vertical-align: top;\n",
              "    }\n",
              "\n",
              "    .dataframe thead th {\n",
              "        text-align: right;\n",
              "    }\n",
              "</style>\n",
              "<table border=\"1\" class=\"dataframe\">\n",
              "  <thead>\n",
              "    <tr style=\"text-align: right;\">\n",
              "      <th></th>\n",
              "      <th>PassengerId</th>\n",
              "      <th>Survived</th>\n",
              "      <th>Pclass</th>\n",
              "      <th>Sex</th>\n",
              "      <th>Age</th>\n",
              "      <th>SibSp</th>\n",
              "      <th>Parch</th>\n",
              "      <th>Ticket</th>\n",
              "      <th>Fare</th>\n",
              "      <th>Cabin</th>\n",
              "      <th>Embarked</th>\n",
              "      <th>Title</th>\n",
              "    </tr>\n",
              "  </thead>\n",
              "  <tbody>\n",
              "    <tr>\n",
              "      <th>0</th>\n",
              "      <td>1</td>\n",
              "      <td>0</td>\n",
              "      <td>3</td>\n",
              "      <td>0</td>\n",
              "      <td>1.0</td>\n",
              "      <td>1</td>\n",
              "      <td>0</td>\n",
              "      <td>A/5 21171</td>\n",
              "      <td>7.2500</td>\n",
              "      <td>NaN</td>\n",
              "      <td>0</td>\n",
              "      <td>0</td>\n",
              "    </tr>\n",
              "    <tr>\n",
              "      <th>1</th>\n",
              "      <td>2</td>\n",
              "      <td>1</td>\n",
              "      <td>1</td>\n",
              "      <td>1</td>\n",
              "      <td>3.0</td>\n",
              "      <td>1</td>\n",
              "      <td>0</td>\n",
              "      <td>PC 17599</td>\n",
              "      <td>71.2833</td>\n",
              "      <td>C85</td>\n",
              "      <td>1</td>\n",
              "      <td>2</td>\n",
              "    </tr>\n",
              "    <tr>\n",
              "      <th>2</th>\n",
              "      <td>3</td>\n",
              "      <td>1</td>\n",
              "      <td>3</td>\n",
              "      <td>1</td>\n",
              "      <td>1.0</td>\n",
              "      <td>0</td>\n",
              "      <td>0</td>\n",
              "      <td>STON/O2. 3101282</td>\n",
              "      <td>7.9250</td>\n",
              "      <td>NaN</td>\n",
              "      <td>0</td>\n",
              "      <td>1</td>\n",
              "    </tr>\n",
              "    <tr>\n",
              "      <th>3</th>\n",
              "      <td>4</td>\n",
              "      <td>1</td>\n",
              "      <td>1</td>\n",
              "      <td>1</td>\n",
              "      <td>2.0</td>\n",
              "      <td>1</td>\n",
              "      <td>0</td>\n",
              "      <td>113803</td>\n",
              "      <td>53.1000</td>\n",
              "      <td>C123</td>\n",
              "      <td>0</td>\n",
              "      <td>2</td>\n",
              "    </tr>\n",
              "    <tr>\n",
              "      <th>4</th>\n",
              "      <td>5</td>\n",
              "      <td>0</td>\n",
              "      <td>3</td>\n",
              "      <td>0</td>\n",
              "      <td>2.0</td>\n",
              "      <td>0</td>\n",
              "      <td>0</td>\n",
              "      <td>373450</td>\n",
              "      <td>8.0500</td>\n",
              "      <td>NaN</td>\n",
              "      <td>0</td>\n",
              "      <td>0</td>\n",
              "    </tr>\n",
              "  </tbody>\n",
              "</table>\n",
              "</div>"
            ],
            "text/plain": [
              "   PassengerId  Survived  Pclass  Sex  Age  SibSp  Parch            Ticket  \\\n",
              "0            1         0       3    0  1.0      1      0         A/5 21171   \n",
              "1            2         1       1    1  3.0      1      0          PC 17599   \n",
              "2            3         1       3    1  1.0      0      0  STON/O2. 3101282   \n",
              "3            4         1       1    1  2.0      1      0            113803   \n",
              "4            5         0       3    0  2.0      0      0            373450   \n",
              "\n",
              "      Fare Cabin  Embarked  Title  \n",
              "0   7.2500   NaN         0      0  \n",
              "1  71.2833   C85         1      2  \n",
              "2   7.9250   NaN         0      1  \n",
              "3  53.1000  C123         0      2  \n",
              "4   8.0500   NaN         0      0  "
            ]
          },
          "metadata": {
            "tags": []
          },
          "execution_count": 41
        }
      ]
    },
    {
      "metadata": {
        "id": "5EgNzGzm_Zt_",
        "colab_type": "text"
      },
      "cell_type": "markdown",
      "source": [
        "**Fare Feature Engineering**\n",
        "\n",
        "The fare paid by the passanger is closely related to the Pclass value. Thefore, we can use the relationship between these two values by using the median value for each class to fill in the missing values for the fare."
      ]
    },
    {
      "metadata": {
        "id": "OSbU6dCPCz7H",
        "colab_type": "code",
        "colab": {}
      },
      "cell_type": "code",
      "source": [
        "train[\"Fare\"].fillna(train.groupby(\"Pclass\")[\"Fare\"].transform(\"median\"), inplace=True)\n",
        "test[\"Fare\"].fillna(test.groupby(\"Pclass\")[\"Fare\"].transform(\"median\"), inplace=True)"
      ],
      "execution_count": 0,
      "outputs": []
    },
    {
      "metadata": {
        "id": "zSmLENxvEbdy",
        "colab_type": "text"
      },
      "cell_type": "markdown",
      "source": [
        "The following code gives a chart for Fare vs the survival status for all passengers where 1 (green) is survived and 0 (blue) is did not survive.\n",
        "\n",
        "As we can see from the graph, passengers who paid a lower fare were much more likely to die than those who paid more for their ticket.\n",
        "\n",
        "To get a closer look on the graph, the code that follows zooms into the different slices of the graph."
      ]
    },
    {
      "metadata": {
        "id": "RUUbu8z4DT5N",
        "colab_type": "code",
        "colab": {
          "base_uri": "https://localhost:8080/",
          "height": 221
        },
        "outputId": "c5c613fa-7755-4bef-9868-41e473529958"
      },
      "cell_type": "code",
      "source": [
        "facet = ans.FacetGrid(train, hue=\"Survived\",aspect=4)\n",
        "facet.map(ans.kdeplot,'Fare',shade= True)\n",
        "facet.set(xlim=(0, train['Fare'].max()))\n",
        "facet.add_legend()\n",
        " \n",
        "plt.show()"
      ],
      "execution_count": 43,
      "outputs": [
        {
          "output_type": "display_data",
          "data": {
            "image/png": "[encoded data removed]",
            "text/plain": [
              "<Figure size 908.75x216 with 1 Axes>"
            ]
          },
          "metadata": {
            "tags": []
          }
        }
      ]
    },
    {
      "metadata": {
        "id": "xewU0YGLHTC3",
        "colab_type": "text"
      },
      "cell_type": "markdown",
      "source": [
        "Zooming from 0 to 50 fare value"
      ]
    },
    {
      "metadata": {
        "id": "fNCY-XxjHMtR",
        "colab_type": "code",
        "colab": {
          "base_uri": "https://localhost:8080/",
          "height": 239
        },
        "outputId": "897164af-6cc2-4d49-de08-592abcc3641b"
      },
      "cell_type": "code",
      "source": [
        "facet = ans.FacetGrid(train, hue=\"Survived\",aspect=4)\n",
        "facet.map(ans.kdeplot,'Fare',shade= True)\n",
        "facet.set(xlim=(0, train['Fare'].max()))\n",
        "facet.add_legend()\n",
        "plt.xlim(0, 50)"
      ],
      "execution_count": 44,
      "outputs": [
        {
          "output_type": "execute_result",
          "data": {
            "text/plain": [
              "(0, 50)"
            ]
          },
          "metadata": {
            "tags": []
          },
          "execution_count": 44
        },
        {
          "output_type": "display_data",
          "data": {
            "image/png": "[encoded data removed]",
            "text/plain": [
              "<Figure size 908.75x216 with 1 Axes>"
            ]
          },
          "metadata": {
            "tags": []
          }
        }
      ]
    },
    {
      "metadata": {
        "id": "lG7Yfa9QHwIv",
        "colab_type": "text"
      },
      "cell_type": "markdown",
      "source": [
        "Zooming from 50 to 100 fare value"
      ]
    },
    {
      "metadata": {
        "id": "yHTgCa7KHyhs",
        "colab_type": "code",
        "colab": {
          "base_uri": "https://localhost:8080/",
          "height": 239
        },
        "outputId": "1b23c4b9-549b-4e01-b45f-72089507be94"
      },
      "cell_type": "code",
      "source": [
        "facet = ans.FacetGrid(train, hue=\"Survived\",aspect=4)\n",
        "facet.map(ans.kdeplot,'Fare',shade= True)\n",
        "facet.set(xlim=(0, train['Fare'].max()))\n",
        "facet.add_legend()\n",
        "plt.xlim(50, 100)"
      ],
      "execution_count": 45,
      "outputs": [
        {
          "output_type": "execute_result",
          "data": {
            "text/plain": [
              "(50, 100)"
            ]
          },
          "metadata": {
            "tags": []
          },
          "execution_count": 45
        },
        {
          "output_type": "display_data",
          "data": {
            "image/png": "[encoded data removed]",
            "text/plain": [
              "<Figure size 908.75x216 with 1 Axes>"
            ]
          },
          "metadata": {
            "tags": []
          }
        }
      ]
    },
    {
      "metadata": {
        "id": "1PFX-gMpIDRi",
        "colab_type": "text"
      },
      "cell_type": "markdown",
      "source": [
        "Grouping Fare into Categories\n",
        "\n",
        "Based on our observations above, different Fare categories have different chances of survival. We will group numercial Fare values to numerical categories as following:\n",
        "\n",
        "0: 0 <= Fare <= 17\n",
        "\n",
        "1: 17 < Fare <= 30\n",
        "\n",
        "2: 30 < Fare <= 100\n",
        "\n",
        "3: 100 < Fare"
      ]
    },
    {
      "metadata": {
        "id": "R_Pcv7DTIwfk",
        "colab_type": "code",
        "colab": {}
      },
      "cell_type": "code",
      "source": [
        "for dataset in train_test_data:\n",
        "    dataset.loc[ dataset['Fare'] <= 17, 'Fare'] = 0,\n",
        "    dataset.loc[(dataset['Fare'] > 17) & (dataset['Fare'] <= 30), 'Fare'] = 1,\n",
        "    dataset.loc[(dataset['Fare'] > 30) & (dataset['Fare'] <= 100), 'Fare'] = 2,\n",
        "    dataset.loc[ dataset['Fare'] > 100, 'Fare'] = 3"
      ],
      "execution_count": 0,
      "outputs": []
    },
    {
      "metadata": {
        "id": "XBuPaqtSJOgX",
        "colab_type": "text"
      },
      "cell_type": "markdown",
      "source": [
        "We can see by displaying the first five entries in our training data set, the Fare feature now has the 0-3 category value we have assigned above."
      ]
    },
    {
      "metadata": {
        "id": "tOSJFyBhJKyr",
        "colab_type": "code",
        "colab": {
          "base_uri": "https://localhost:8080/",
          "height": 203
        },
        "outputId": "bb41f292-a0bf-4fe1-8bc0-ed90711a375c"
      },
      "cell_type": "code",
      "source": [
        "train.head()"
      ],
      "execution_count": 47,
      "outputs": [
        {
          "output_type": "execute_result",
          "data": {
            "text/html": [
              "<div>\n",
              "<style scoped>\n",
              "    .dataframe tbody tr th:only-of-type {\n",
              "        vertical-align: middle;\n",
              "    }\n",
              "\n",
              "    .dataframe tbody tr th {\n",
              "        vertical-align: top;\n",
              "    }\n",
              "\n",
              "    .dataframe thead th {\n",
              "        text-align: right;\n",
              "    }\n",
              "</style>\n",
              "<table border=\"1\" class=\"dataframe\">\n",
              "  <thead>\n",
              "    <tr style=\"text-align: right;\">\n",
              "      <th></th>\n",
              "      <th>PassengerId</th>\n",
              "      <th>Survived</th>\n",
              "      <th>Pclass</th>\n",
              "      <th>Sex</th>\n",
              "      <th>Age</th>\n",
              "      <th>SibSp</th>\n",
              "      <th>Parch</th>\n",
              "      <th>Ticket</th>\n",
              "      <th>Fare</th>\n",
              "      <th>Cabin</th>\n",
              "      <th>Embarked</th>\n",
              "      <th>Title</th>\n",
              "    </tr>\n",
              "  </thead>\n",
              "  <tbody>\n",
              "    <tr>\n",
              "      <th>0</th>\n",
              "      <td>1</td>\n",
              "      <td>0</td>\n",
              "      <td>3</td>\n",
              "      <td>0</td>\n",
              "      <td>1.0</td>\n",
              "      <td>1</td>\n",
              "      <td>0</td>\n",
              "      <td>A/5 21171</td>\n",
              "      <td>0.0</td>\n",
              "      <td>NaN</td>\n",
              "      <td>0</td>\n",
              "      <td>0</td>\n",
              "    </tr>\n",
              "    <tr>\n",
              "      <th>1</th>\n",
              "      <td>2</td>\n",
              "      <td>1</td>\n",
              "      <td>1</td>\n",
              "      <td>1</td>\n",
              "      <td>3.0</td>\n",
              "      <td>1</td>\n",
              "      <td>0</td>\n",
              "      <td>PC 17599</td>\n",
              "      <td>2.0</td>\n",
              "      <td>C85</td>\n",
              "      <td>1</td>\n",
              "      <td>2</td>\n",
              "    </tr>\n",
              "    <tr>\n",
              "      <th>2</th>\n",
              "      <td>3</td>\n",
              "      <td>1</td>\n",
              "      <td>3</td>\n",
              "      <td>1</td>\n",
              "      <td>1.0</td>\n",
              "      <td>0</td>\n",
              "      <td>0</td>\n",
              "      <td>STON/O2. 3101282</td>\n",
              "      <td>0.0</td>\n",
              "      <td>NaN</td>\n",
              "      <td>0</td>\n",
              "      <td>1</td>\n",
              "    </tr>\n",
              "    <tr>\n",
              "      <th>3</th>\n",
              "      <td>4</td>\n",
              "      <td>1</td>\n",
              "      <td>1</td>\n",
              "      <td>1</td>\n",
              "      <td>2.0</td>\n",
              "      <td>1</td>\n",
              "      <td>0</td>\n",
              "      <td>113803</td>\n",
              "      <td>2.0</td>\n",
              "      <td>C123</td>\n",
              "      <td>0</td>\n",
              "      <td>2</td>\n",
              "    </tr>\n",
              "    <tr>\n",
              "      <th>4</th>\n",
              "      <td>5</td>\n",
              "      <td>0</td>\n",
              "      <td>3</td>\n",
              "      <td>0</td>\n",
              "      <td>2.0</td>\n",
              "      <td>0</td>\n",
              "      <td>0</td>\n",
              "      <td>373450</td>\n",
              "      <td>0.0</td>\n",
              "      <td>NaN</td>\n",
              "      <td>0</td>\n",
              "      <td>0</td>\n",
              "    </tr>\n",
              "  </tbody>\n",
              "</table>\n",
              "</div>"
            ],
            "text/plain": [
              "   PassengerId  Survived  Pclass  Sex  Age  SibSp  Parch            Ticket  \\\n",
              "0            1         0       3    0  1.0      1      0         A/5 21171   \n",
              "1            2         1       1    1  3.0      1      0          PC 17599   \n",
              "2            3         1       3    1  1.0      0      0  STON/O2. 3101282   \n",
              "3            4         1       1    1  2.0      1      0            113803   \n",
              "4            5         0       3    0  2.0      0      0            373450   \n",
              "\n",
              "   Fare Cabin  Embarked  Title  \n",
              "0   0.0   NaN         0      0  \n",
              "1   2.0   C85         1      2  \n",
              "2   0.0   NaN         0      1  \n",
              "3   2.0  C123         0      2  \n",
              "4   0.0   NaN         0      0  "
            ]
          },
          "metadata": {
            "tags": []
          },
          "execution_count": 47
        }
      ]
    },
    {
      "metadata": {
        "id": "ScAoKmztJry1",
        "colab_type": "text"
      },
      "cell_type": "markdown",
      "source": [
        "**Cabin Feature Engineering**\n",
        "\n",
        "Cabin gives the passenger room in the ship. First class cabins will have a higher possibility to survive than lower class cabins. By using the value_counts() function to check the cabin values in the code cell below, we can see that the first value is a character while the remaining values are numbers (eg: E25). Most likely, the character value is what refferes to the different type of room/floor or section in the ship while the number is to differentiate adjacent rooms. Therefore, we will use the first character value in the cabin name to see what effect it has on the survival chance of the passenger. "
      ]
    },
    {
      "metadata": {
        "id": "6RORyofLL-Ly",
        "colab_type": "code",
        "colab": {
          "base_uri": "https://localhost:8080/",
          "height": 1108
        },
        "outputId": "d700b8f3-4601-480b-b9ef-bbe67e6af5c2"
      },
      "cell_type": "code",
      "source": [
        "train.Cabin.value_counts()"
      ],
      "execution_count": 48,
      "outputs": [
        {
          "output_type": "execute_result",
          "data": {
            "text/plain": [
              "G6             4\n",
              "B96 B98        4\n",
              "C23 C25 C27    4\n",
              "F2             3\n",
              "C22 C26        3\n",
              "E101           3\n",
              "F33            3\n",
              "D              3\n",
              "E67            2\n",
              "D20            2\n",
              "C125           2\n",
              "B22            2\n",
              "F G73          2\n",
              "C126           2\n",
              "C2             2\n",
              "B5             2\n",
              "E44            2\n",
              "C93            2\n",
              "C92            2\n",
              "B49            2\n",
              "E24            2\n",
              "C52            2\n",
              "D26            2\n",
              "D35            2\n",
              "E121           2\n",
              "B18            2\n",
              "C65            2\n",
              "E8             2\n",
              "F4             2\n",
              "D17            2\n",
              "              ..\n",
              "D49            1\n",
              "C118           1\n",
              "C103           1\n",
              "B86            1\n",
              "A24            1\n",
              "D56            1\n",
              "E12            1\n",
              "F E69          1\n",
              "D48            1\n",
              "E10            1\n",
              "A6             1\n",
              "B79            1\n",
              "D9             1\n",
              "C90            1\n",
              "E40            1\n",
              "F38            1\n",
              "C95            1\n",
              "C101           1\n",
              "C45            1\n",
              "D10 D12        1\n",
              "D37            1\n",
              "C62 C64        1\n",
              "A36            1\n",
              "B101           1\n",
              "B37            1\n",
              "E50            1\n",
              "C54            1\n",
              "D11            1\n",
              "C128           1\n",
              "C50            1\n",
              "Name: Cabin, Length: 147, dtype: int64"
            ]
          },
          "metadata": {
            "tags": []
          },
          "execution_count": 48
        }
      ]
    },
    {
      "metadata": {
        "id": "vsInijC1MQlB",
        "colab_type": "text"
      },
      "cell_type": "markdown",
      "source": [
        "Extracting the first character in the Cabin string values"
      ]
    },
    {
      "metadata": {
        "id": "KDofd52aMMan",
        "colab_type": "code",
        "colab": {}
      },
      "cell_type": "code",
      "source": [
        "for dataset in train_test_data:\n",
        "    dataset['Cabin'] = dataset['Cabin'].str[:1]"
      ],
      "execution_count": 0,
      "outputs": []
    },
    {
      "metadata": {
        "id": "ThvKYY0SMXcq",
        "colab_type": "text"
      },
      "cell_type": "markdown",
      "source": [
        "The following code cell graphs the different Cabin character values for each class. As we can see, the different classes have different cabin characters."
      ]
    },
    {
      "metadata": {
        "id": "hSHr4QmSNYDy",
        "colab_type": "code",
        "colab": {
          "base_uri": "https://localhost:8080/",
          "height": 370
        },
        "outputId": "cb95281a-81c8-4e1e-d4fe-8a0d33aef502"
      },
      "cell_type": "code",
      "source": [
        "Pclass1 = train[train['Pclass']==1]['Cabin'].value_counts()\n",
        "Pclass2 = train[train['Pclass']==2]['Cabin'].value_counts()\n",
        "Pclass3 = train[train['Pclass']==3]['Cabin'].value_counts()\n",
        "df = pd.DataFrame([Pclass1, Pclass2, Pclass3])\n",
        "df.index = ['1st class','2nd class', '3rd class']\n",
        "df.plot(kind='bar',stacked=True, figsize=(10,5))"
      ],
      "execution_count": 50,
      "outputs": [
        {
          "output_type": "execute_result",
          "data": {
            "text/plain": [
              "<matplotlib.axes._subplots.AxesSubplot at 0x7fcb28c39f60>"
            ]
          },
          "metadata": {
            "tags": []
          },
          "execution_count": 50
        },
        {
          "output_type": "display_data",
          "data": {
            "image/png": "[encoded data removed]",
            "text/plain": [
              "<Figure size 720x360 with 1 Axes>"
            ]
          },
          "metadata": {
            "tags": []
          }
        }
      ]
    },
    {
      "metadata": {
        "id": "afVMoK-dNb7i",
        "colab_type": "text"
      },
      "cell_type": "markdown",
      "source": [
        "This information can be  usefull in classifying the different classes or fares. we will need to map the characters to numerical values and in order to give a smilar range for each features, we will keep the range between 0 and 3 for the classifier to work properly. This technique is known as feature scalling.It is is a method used to standardize the range of independent variables or features of data. For example, for male/female information we used 0 and 1, meaning we have a difference of 1 between the two values. For fare values for example with a range betweeen 0 and 500, a difference of 10 is less infomative than a difference of 1 in Sex values.This is why we have to scale our features accordingly.  More information on feature scaling can be found on the [Wikipedia page](https://en.wikipedia.org/wiki/Feature_scaling). "
      ]
    },
    {
      "metadata": {
        "id": "XwuBGDAZZWhi",
        "colab_type": "code",
        "colab": {}
      },
      "cell_type": "code",
      "source": [
        "cabin_mapping = {\"A\": 0, \"B\": 0.4, \"C\": 0.8, \"D\": 1.2, \"E\": 1.6, \"F\": 2, \"G\": 2.4, \"T\": 2.8}\n",
        "for dataset in train_test_data:\n",
        "    dataset['Cabin'] = dataset['Cabin'].map(cabin_mapping)"
      ],
      "execution_count": 0,
      "outputs": []
    },
    {
      "metadata": {
        "id": "_85vkxl0ZZVL",
        "colab_type": "text"
      },
      "cell_type": "markdown",
      "source": [
        "We will now fill the missing Fare data using the median value of each Pclass."
      ]
    },
    {
      "metadata": {
        "id": "paiJAQ0-Zzuo",
        "colab_type": "code",
        "colab": {}
      },
      "cell_type": "code",
      "source": [
        "train[\"Cabin\"].fillna(train.groupby(\"Pclass\")[\"Cabin\"].transform(\"median\"), inplace=True)\n",
        "test[\"Cabin\"].fillna(test.groupby(\"Pclass\")[\"Cabin\"].transform(\"median\"), inplace=True)"
      ],
      "execution_count": 0,
      "outputs": []
    },
    {
      "metadata": {
        "id": "TNBHQRiXZ3wI",
        "colab_type": "text"
      },
      "cell_type": "markdown",
      "source": [
        "**FamilySize Feature Engineering**\n",
        "\n",
        "We will see how the Family Size of a passenger effects their likelyhood of survival. To get the full family size, we will use the value of 1 (the passenger himself) +  SibSp (sibling and spouse count) + parch (parent and children count)."
      ]
    },
    {
      "metadata": {
        "id": "MbCNcGivcxm-",
        "colab_type": "code",
        "colab": {}
      },
      "cell_type": "code",
      "source": [
        "train[\"FamilySize\"] = train[\"SibSp\"] + train[\"Parch\"] + 1\n",
        "test[\"FamilySize\"] = test[\"SibSp\"] + test[\"Parch\"] + 1"
      ],
      "execution_count": 0,
      "outputs": []
    },
    {
      "metadata": {
        "id": "A__vzVm0c0Iq",
        "colab_type": "code",
        "colab": {
          "base_uri": "https://localhost:8080/",
          "height": 239
        },
        "outputId": "607fee04-34fb-4105-dc7f-b5f23761f8dc"
      },
      "cell_type": "code",
      "source": [
        "facet = ans.FacetGrid(train, hue=\"Survived\",aspect=4)\n",
        "facet.map(ans.kdeplot,'FamilySize',shade= True)\n",
        "facet.set(xlim=(0, train['FamilySize'].max()))\n",
        "facet.add_legend()\n",
        "plt.xlim(0)"
      ],
      "execution_count": 54,
      "outputs": [
        {
          "output_type": "execute_result",
          "data": {
            "text/plain": [
              "(0, 11.0)"
            ]
          },
          "metadata": {
            "tags": []
          },
          "execution_count": 54
        },
        {
          "output_type": "display_data",
          "data": {
            "image/png": "[encoded data removed]",
            "text/plain": [
              "<Figure size 908.75x216 with 1 Axes>"
            ]
          },
          "metadata": {
            "tags": []
          }
        }
      ]
    },
    {
      "metadata": {
        "id": "_ZCo0_Txc3ZE",
        "colab_type": "text"
      },
      "cell_type": "markdown",
      "source": [
        " As we cann see from the plot above, passengers who aborted the ship alone (FamilySize=1) have a much higher chance of dying than those with a larder FamilySize"
      ]
    },
    {
      "metadata": {
        "id": "Cg_9s8UidMSC",
        "colab_type": "text"
      },
      "cell_type": "markdown",
      "source": [
        "We will map the familySize to a numerical value with a range of 0-4 "
      ]
    },
    {
      "metadata": {
        "id": "oPX9WTsxdbc0",
        "colab_type": "code",
        "colab": {}
      },
      "cell_type": "code",
      "source": [
        "family_mapping = {1: 0, 2: 0.4, 3: 0.8, 4: 1.2, 5: 1.6, 6: 2, 7: 2.4, 8: 2.8, 9: 3.2, 10: 3.6, 11: 4}\n",
        "for dataset in train_test_data:\n",
        "    dataset['FamilySize'] = dataset['FamilySize'].map(family_mapping)"
      ],
      "execution_count": 0,
      "outputs": []
    },
    {
      "metadata": {
        "id": "dfu36aAtdjlc",
        "colab_type": "text"
      },
      "cell_type": "markdown",
      "source": [
        "**Reamining Features Engineering**\n",
        "\n",
        "The remaining features inlcude the ticket which does not have usefull information that we can use, SibSp and Parch which we have used in the familySize feature above. Therefore, we wil drop the three features from our datasets. "
      ]
    },
    {
      "metadata": {
        "id": "3XnFMSgMeE39",
        "colab_type": "code",
        "colab": {}
      },
      "cell_type": "code",
      "source": [
        "features_drop = ['Ticket', 'SibSp', 'Parch']\n",
        "train = train.drop(features_drop, axis=1)\n",
        "test = test.drop(features_drop, axis=1)\n",
        "train = train.drop(['PassengerId'], axis=1)"
      ],
      "execution_count": 0,
      "outputs": []
    },
    {
      "metadata": {
        "id": "G47bH_PVeKc7",
        "colab_type": "text"
      },
      "cell_type": "markdown",
      "source": [
        "Finally, this is the final Feature vector we have for the train data with only numerical values that we can use. to train, validate and test.   "
      ]
    },
    {
      "metadata": {
        "id": "wtIdYzpCedsJ",
        "colab_type": "code",
        "outputId": "751980a6-6264-47ce-8110-4697c1ca8712",
        "colab": {
          "base_uri": "https://localhost:8080/",
          "height": 35
        }
      },
      "cell_type": "code",
      "source": [
        "train_data = train.drop('Survived', axis=1)\n",
        "target = train['Survived']\n",
        "\n",
        "train_data.shape, target.shape"
      ],
      "execution_count": 57,
      "outputs": [
        {
          "output_type": "execute_result",
          "data": {
            "text/plain": [
              "((891, 8), (891,))"
            ]
          },
          "metadata": {
            "tags": []
          },
          "execution_count": 57
        }
      ]
    },
    {
      "metadata": {
        "id": "a2HKQ4RheVoO",
        "colab_type": "code",
        "colab": {
          "base_uri": "https://localhost:8080/",
          "height": 203
        },
        "outputId": "d05fed94-0c6e-4815-dfea-e87e5579f6f8"
      },
      "cell_type": "code",
      "source": [
        "train_data.head()"
      ],
      "execution_count": 58,
      "outputs": [
        {
          "output_type": "execute_result",
          "data": {
            "text/html": [
              "<div>\n",
              "<style scoped>\n",
              "    .dataframe tbody tr th:only-of-type {\n",
              "        vertical-align: middle;\n",
              "    }\n",
              "\n",
              "    .dataframe tbody tr th {\n",
              "        vertical-align: top;\n",
              "    }\n",
              "\n",
              "    .dataframe thead th {\n",
              "        text-align: right;\n",
              "    }\n",
              "</style>\n",
              "<table border=\"1\" class=\"dataframe\">\n",
              "  <thead>\n",
              "    <tr style=\"text-align: right;\">\n",
              "      <th></th>\n",
              "      <th>Pclass</th>\n",
              "      <th>Sex</th>\n",
              "      <th>Age</th>\n",
              "      <th>Fare</th>\n",
              "      <th>Cabin</th>\n",
              "      <th>Embarked</th>\n",
              "      <th>Title</th>\n",
              "      <th>FamilySize</th>\n",
              "    </tr>\n",
              "  </thead>\n",
              "  <tbody>\n",
              "    <tr>\n",
              "      <th>0</th>\n",
              "      <td>3</td>\n",
              "      <td>0</td>\n",
              "      <td>1.0</td>\n",
              "      <td>0.0</td>\n",
              "      <td>2.0</td>\n",
              "      <td>0</td>\n",
              "      <td>0</td>\n",
              "      <td>0.4</td>\n",
              "    </tr>\n",
              "    <tr>\n",
              "      <th>1</th>\n",
              "      <td>1</td>\n",
              "      <td>1</td>\n",
              "      <td>3.0</td>\n",
              "      <td>2.0</td>\n",
              "      <td>0.8</td>\n",
              "      <td>1</td>\n",
              "      <td>2</td>\n",
              "      <td>0.4</td>\n",
              "    </tr>\n",
              "    <tr>\n",
              "      <th>2</th>\n",
              "      <td>3</td>\n",
              "      <td>1</td>\n",
              "      <td>1.0</td>\n",
              "      <td>0.0</td>\n",
              "      <td>2.0</td>\n",
              "      <td>0</td>\n",
              "      <td>1</td>\n",
              "      <td>0.0</td>\n",
              "    </tr>\n",
              "    <tr>\n",
              "      <th>3</th>\n",
              "      <td>1</td>\n",
              "      <td>1</td>\n",
              "      <td>2.0</td>\n",
              "      <td>2.0</td>\n",
              "      <td>0.8</td>\n",
              "      <td>0</td>\n",
              "      <td>2</td>\n",
              "      <td>0.4</td>\n",
              "    </tr>\n",
              "    <tr>\n",
              "      <th>4</th>\n",
              "      <td>3</td>\n",
              "      <td>0</td>\n",
              "      <td>2.0</td>\n",
              "      <td>0.0</td>\n",
              "      <td>2.0</td>\n",
              "      <td>0</td>\n",
              "      <td>0</td>\n",
              "      <td>0.0</td>\n",
              "    </tr>\n",
              "  </tbody>\n",
              "</table>\n",
              "</div>"
            ],
            "text/plain": [
              "   Pclass  Sex  Age  Fare  Cabin  Embarked  Title  FamilySize\n",
              "0       3    0  1.0   0.0    2.0         0      0         0.4\n",
              "1       1    1  3.0   2.0    0.8         1      2         0.4\n",
              "2       3    1  1.0   0.0    2.0         0      1         0.0\n",
              "3       1    1  2.0   2.0    0.8         0      2         0.4\n",
              "4       3    0  2.0   0.0    2.0         0      0         0.0"
            ]
          },
          "metadata": {
            "tags": []
          },
          "execution_count": 58
        }
      ]
    },
    {
      "metadata": {
        "id": "4X8qbBeHeniD",
        "colab_type": "text"
      },
      "cell_type": "markdown",
      "source": [
        "# Modelling\n",
        "\n",
        " We will use different classifiers to predict the survival of the passengers in the Titanic test data set using the feature vectors we have generated in the previous section.\n",
        " \n",
        "\n",
        " First classifier:  [Multilayer perceptron](https://en.wikipedia.org/wiki/Multilayer_perceptron)\n",
        " \n",
        " Second classifier:  [Naive Bayes](https://en.wikipedia.org/wiki/Naive_Bayes_classifier)\n",
        " \n",
        " Third classifier: [Random forest](https://en.wikipedia.org/wiki/Random_forest)\n",
        " \n",
        " Fourth classifier: [Decision tree learning](https://en.wikipedia.org/wiki/Decision_tree_learning)\n",
        " \n",
        " Fifth classifier: [Support vector machine](https://en.wikipedia.org/wiki/Support-vector_machine)\n",
        " \n",
        " Sixth classifier: [K-nearest neighbors algorithm](https://en.wikipedia.org/wiki/K-nearest_neighbors_algorithm)\n",
        " *******\n",
        "We will then use [k-fold cross validation ](https://towardsdatascience.com/cross-validation-in-machine-learning-72924a69872f) to ensure that our model has received the correct patterns from our data set. "
      ]
    },
    {
      "metadata": {
        "id": "x_sJj9f13mtt",
        "colab_type": "text"
      },
      "cell_type": "markdown",
      "source": [
        "First, we will import the classifier models "
      ]
    },
    {
      "metadata": {
        "id": "kXahiLeY3qh7",
        "colab_type": "code",
        "colab": {}
      },
      "cell_type": "code",
      "source": [
        "# Importing Classifier Modules\n",
        "from sklearn.neural_network import MLPClassifier\n",
        "from sklearn.naive_bayes import GaussianNB\n",
        "from sklearn.tree import DecisionTreeClassifier\n",
        "from sklearn.ensemble import RandomForestClassifier\n",
        "from sklearn.svm import SVC\n",
        "from sklearn.neighbors import KNeighborsClassifier\n",
        "\n",
        "import numpy as np"
      ],
      "execution_count": 0,
      "outputs": []
    },
    {
      "metadata": {
        "id": "fnsQug-G3--E",
        "colab_type": "code",
        "colab": {
          "base_uri": "https://localhost:8080/",
          "height": 263
        },
        "outputId": "239ecb18-4429-4334-e0b7-1943024f7ab9"
      },
      "cell_type": "code",
      "source": [
        "train.info()"
      ],
      "execution_count": 60,
      "outputs": [
        {
          "output_type": "stream",
          "text": [
            "<class 'pandas.core.frame.DataFrame'>\n",
            "RangeIndex: 891 entries, 0 to 890\n",
            "Data columns (total 9 columns):\n",
            "Survived      891 non-null int64\n",
            "Pclass        891 non-null int64\n",
            "Sex           891 non-null int64\n",
            "Age           891 non-null float64\n",
            "Fare          891 non-null float64\n",
            "Cabin         891 non-null float64\n",
            "Embarked      891 non-null int64\n",
            "Title         891 non-null int64\n",
            "FamilySize    891 non-null float64\n",
            "dtypes: float64(4), int64(5)\n",
            "memory usage: 62.7 KB\n"
          ],
          "name": "stdout"
        }
      ]
    },
    {
      "metadata": {
        "id": "3cKj8fGP4ku9",
        "colab_type": "text"
      },
      "cell_type": "markdown",
      "source": [
        "**K-fold Cross Validation**\n",
        "\n",
        "Import k-fold for cross validation and use cross_val_score. we will use 10 splits. "
      ]
    },
    {
      "metadata": {
        "id": "R22SKGmE4sh-",
        "colab_type": "code",
        "colab": {}
      },
      "cell_type": "code",
      "source": [
        "from sklearn.model_selection import KFold\n",
        "from sklearn.model_selection import cross_val_score\n",
        "k_fold = KFold(n_splits=10, shuffle=True, random_state=0)  "
      ],
      "execution_count": 0,
      "outputs": []
    },
    {
      "metadata": {
        "id": "8TBM0BesOoc3",
        "colab_type": "text"
      },
      "cell_type": "markdown",
      "source": [
        "**Multilayer Perceptron Classifier**\n"
      ]
    },
    {
      "metadata": {
        "id": "jtTUzb7aPmrQ",
        "colab_type": "code",
        "outputId": "632383f0-a036-4f4b-90bc-0d78b4e84bf4",
        "colab": {
          "base_uri": "https://localhost:8080/",
          "height": 52
        }
      },
      "cell_type": "code",
      "source": [
        "clf = MLPClassifier(solver='lbfgs', alpha=1e-5,\n",
        "                     hidden_layer_sizes=(50,50), random_state=1)\n",
        "scoring = 'accuracy'\n",
        "score = cross_val_score(clf, train_data, target, cv=k_fold, n_jobs=1, scoring=scoring)\n",
        "print(score)"
      ],
      "execution_count": 62,
      "outputs": [
        {
          "output_type": "stream",
          "text": [
            "[0.85555556 0.82022472 0.7752809  0.78651685 0.87640449 0.80898876\n",
            " 0.7752809  0.78651685 0.76404494 0.80898876]\n"
          ],
          "name": "stdout"
        }
      ]
    },
    {
      "metadata": {
        "id": "Gl_sdVuJTP7I",
        "colab_type": "text"
      },
      "cell_type": "markdown",
      "source": [
        "Multilayer Perceptron Percentage Score "
      ]
    },
    {
      "metadata": {
        "id": "sBr5jvCKP8Ed",
        "colab_type": "code",
        "outputId": "3ce94481-b6af-4008-d834-ce3be92e2cbd",
        "colab": {
          "base_uri": "https://localhost:8080/",
          "height": 35
        }
      },
      "cell_type": "code",
      "source": [
        "round(np.mean(score)*100, 2)"
      ],
      "execution_count": 63,
      "outputs": [
        {
          "output_type": "execute_result",
          "data": {
            "text/plain": [
              "80.58"
            ]
          },
          "metadata": {
            "tags": []
          },
          "execution_count": 63
        }
      ]
    },
    {
      "metadata": {
        "id": "wowQqZUa5sv0",
        "colab_type": "text"
      },
      "cell_type": "markdown",
      "source": [
        "**Naive Bayes Classifier**"
      ]
    },
    {
      "metadata": {
        "id": "YuggmS3n6QEa",
        "colab_type": "code",
        "outputId": "ec321b4b-2607-4b9c-bd9d-d686a8600fd2",
        "colab": {
          "base_uri": "https://localhost:8080/",
          "height": 52
        }
      },
      "cell_type": "code",
      "source": [
        "clf = GaussianNB()\n",
        "scoring = 'accuracy'\n",
        "score = cross_val_score(clf, train_data, target, cv=k_fold, n_jobs=1, scoring=scoring)\n",
        "print(score)"
      ],
      "execution_count": 64,
      "outputs": [
        {
          "output_type": "stream",
          "text": [
            "[0.85555556 0.73033708 0.75280899 0.75280899 0.70786517 0.80898876\n",
            " 0.76404494 0.80898876 0.86516854 0.83146067]\n"
          ],
          "name": "stdout"
        }
      ]
    },
    {
      "metadata": {
        "id": "ybzvog6sS5dP",
        "colab_type": "text"
      },
      "cell_type": "markdown",
      "source": [
        "Naive Bayes Percentage Score "
      ]
    },
    {
      "metadata": {
        "id": "ZTL9REDP6TY8",
        "colab_type": "code",
        "outputId": "62f26899-4be7-4e1f-f952-dfacc7b91d26",
        "colab": {
          "base_uri": "https://localhost:8080/",
          "height": 35
        }
      },
      "cell_type": "code",
      "source": [
        "round(np.mean(score)*100, 2)"
      ],
      "execution_count": 65,
      "outputs": [
        {
          "output_type": "execute_result",
          "data": {
            "text/plain": [
              "78.78"
            ]
          },
          "metadata": {
            "tags": []
          },
          "execution_count": 65
        }
      ]
    },
    {
      "metadata": {
        "id": "4MLFihHi5ign",
        "colab_type": "text"
      },
      "cell_type": "markdown",
      "source": [
        "**Decision Tree Classifier**"
      ]
    },
    {
      "metadata": {
        "id": "eVypMbOR6Et_",
        "colab_type": "code",
        "outputId": "ab84a915-646b-42f9-b670-7b0cf23b02f9",
        "colab": {
          "base_uri": "https://localhost:8080/",
          "height": 52
        }
      },
      "cell_type": "code",
      "source": [
        "clf = DecisionTreeClassifier()\n",
        "scoring = 'accuracy'\n",
        "score = cross_val_score(clf, train_data, target, cv=k_fold, n_jobs=1, scoring=scoring)\n",
        "print(score)"
      ],
      "execution_count": 66,
      "outputs": [
        {
          "output_type": "stream",
          "text": [
            "[0.76666667 0.82022472 0.7752809  0.7752809  0.88764045 0.75280899\n",
            " 0.82022472 0.82022472 0.75280899 0.79775281]\n"
          ],
          "name": "stdout"
        }
      ]
    },
    {
      "metadata": {
        "id": "YN92knAfSzic",
        "colab_type": "text"
      },
      "cell_type": "markdown",
      "source": [
        "Decision Tree Percentage Score "
      ]
    },
    {
      "metadata": {
        "id": "6JkI-Sjf6Izy",
        "colab_type": "code",
        "outputId": "9eead614-ad6e-4eb1-9939-311a07bdb05a",
        "colab": {
          "base_uri": "https://localhost:8080/",
          "height": 35
        }
      },
      "cell_type": "code",
      "source": [
        "round(np.mean(score)*100, 2)"
      ],
      "execution_count": 67,
      "outputs": [
        {
          "output_type": "execute_result",
          "data": {
            "text/plain": [
              "79.69"
            ]
          },
          "metadata": {
            "tags": []
          },
          "execution_count": 67
        }
      ]
    },
    {
      "metadata": {
        "id": "ccr9W6ux5pUO",
        "colab_type": "text"
      },
      "cell_type": "markdown",
      "source": [
        "**Random Forest Classifier**"
      ]
    },
    {
      "metadata": {
        "id": "gwK7JJdQ6Ly1",
        "colab_type": "code",
        "outputId": "920555e5-db94-4e93-9c07-5d8542b5c8d1",
        "colab": {
          "base_uri": "https://localhost:8080/",
          "height": 52
        }
      },
      "cell_type": "code",
      "source": [
        "clf = RandomForestClassifier(n_estimators=13)\n",
        "scoring = 'accuracy'\n",
        "score = cross_val_score(clf, train_data, target, cv=k_fold, n_jobs=1, scoring=scoring)\n",
        "print(score)"
      ],
      "execution_count": 68,
      "outputs": [
        {
          "output_type": "stream",
          "text": [
            "[0.77777778 0.79775281 0.82022472 0.7752809  0.86516854 0.78651685\n",
            " 0.84269663 0.79775281 0.74157303 0.79775281]\n"
          ],
          "name": "stdout"
        }
      ]
    },
    {
      "metadata": {
        "id": "zVf71HJrSvbe",
        "colab_type": "text"
      },
      "cell_type": "markdown",
      "source": [
        "Random Forest Percentage Score "
      ]
    },
    {
      "metadata": {
        "id": "aoMRiqp06NuC",
        "colab_type": "code",
        "outputId": "e7c15fbf-ef7c-4b90-c966-23e427729db2",
        "colab": {
          "base_uri": "https://localhost:8080/",
          "height": 35
        }
      },
      "cell_type": "code",
      "source": [
        "round(np.mean(score)*100, 2)"
      ],
      "execution_count": 69,
      "outputs": [
        {
          "output_type": "execute_result",
          "data": {
            "text/plain": [
              "80.02"
            ]
          },
          "metadata": {
            "tags": []
          },
          "execution_count": 69
        }
      ]
    },
    {
      "metadata": {
        "id": "V7ptWxSb54p2",
        "colab_type": "text"
      },
      "cell_type": "markdown",
      "source": [
        "**SVM Classifier**"
      ]
    },
    {
      "metadata": {
        "id": "NrX9NS5a6XJn",
        "colab_type": "code",
        "colab": {
          "base_uri": "https://localhost:8080/",
          "height": 424
        },
        "outputId": "9789733f-1bb3-4fcd-8af8-7d5a7390336a"
      },
      "cell_type": "code",
      "source": [
        "clf = SVC()\n",
        "scoring = 'accuracy'\n",
        "score = cross_val_score(clf, train_data, target, cv=k_fold, n_jobs=1, scoring=scoring)\n",
        "print(score)"
      ],
      "execution_count": 70,
      "outputs": [
        {
          "output_type": "stream",
          "text": [
            "/usr/local/lib/python3.6/dist-packages/sklearn/svm/base.py:196: FutureWarning: The default value of gamma will change from 'auto' to 'scale' in version 0.22 to account better for unscaled features. Set gamma explicitly to 'auto' or 'scale' to avoid this warning.\n",
            "  \"avoid this warning.\", FutureWarning)\n",
            "/usr/local/lib/python3.6/dist-packages/sklearn/svm/base.py:196: FutureWarning: The default value of gamma will change from 'auto' to 'scale' in version 0.22 to account better for unscaled features. Set gamma explicitly to 'auto' or 'scale' to avoid this warning.\n",
            "  \"avoid this warning.\", FutureWarning)\n",
            "/usr/local/lib/python3.6/dist-packages/sklearn/svm/base.py:196: FutureWarning: The default value of gamma will change from 'auto' to 'scale' in version 0.22 to account better for unscaled features. Set gamma explicitly to 'auto' or 'scale' to avoid this warning.\n",
            "  \"avoid this warning.\", FutureWarning)\n",
            "/usr/local/lib/python3.6/dist-packages/sklearn/svm/base.py:196: FutureWarning: The default value of gamma will change from 'auto' to 'scale' in version 0.22 to account better for unscaled features. Set gamma explicitly to 'auto' or 'scale' to avoid this warning.\n",
            "  \"avoid this warning.\", FutureWarning)\n",
            "/usr/local/lib/python3.6/dist-packages/sklearn/svm/base.py:196: FutureWarning: The default value of gamma will change from 'auto' to 'scale' in version 0.22 to account better for unscaled features. Set gamma explicitly to 'auto' or 'scale' to avoid this warning.\n",
            "  \"avoid this warning.\", FutureWarning)\n",
            "/usr/local/lib/python3.6/dist-packages/sklearn/svm/base.py:196: FutureWarning: The default value of gamma will change from 'auto' to 'scale' in version 0.22 to account better for unscaled features. Set gamma explicitly to 'auto' or 'scale' to avoid this warning.\n",
            "  \"avoid this warning.\", FutureWarning)\n",
            "/usr/local/lib/python3.6/dist-packages/sklearn/svm/base.py:196: FutureWarning: The default value of gamma will change from 'auto' to 'scale' in version 0.22 to account better for unscaled features. Set gamma explicitly to 'auto' or 'scale' to avoid this warning.\n",
            "  \"avoid this warning.\", FutureWarning)\n",
            "/usr/local/lib/python3.6/dist-packages/sklearn/svm/base.py:196: FutureWarning: The default value of gamma will change from 'auto' to 'scale' in version 0.22 to account better for unscaled features. Set gamma explicitly to 'auto' or 'scale' to avoid this warning.\n",
            "  \"avoid this warning.\", FutureWarning)\n",
            "/usr/local/lib/python3.6/dist-packages/sklearn/svm/base.py:196: FutureWarning: The default value of gamma will change from 'auto' to 'scale' in version 0.22 to account better for unscaled features. Set gamma explicitly to 'auto' or 'scale' to avoid this warning.\n",
            "  \"avoid this warning.\", FutureWarning)\n"
          ],
          "name": "stderr"
        },
        {
          "output_type": "stream",
          "text": [
            "[0.83333333 0.80898876 0.83146067 0.82022472 0.84269663 0.82022472\n",
            " 0.84269663 0.85393258 0.83146067 0.86516854]\n"
          ],
          "name": "stdout"
        },
        {
          "output_type": "stream",
          "text": [
            "/usr/local/lib/python3.6/dist-packages/sklearn/svm/base.py:196: FutureWarning: The default value of gamma will change from 'auto' to 'scale' in version 0.22 to account better for unscaled features. Set gamma explicitly to 'auto' or 'scale' to avoid this warning.\n",
            "  \"avoid this warning.\", FutureWarning)\n"
          ],
          "name": "stderr"
        }
      ]
    },
    {
      "metadata": {
        "id": "-G2g0rEQ6ZMb",
        "colab_type": "code",
        "outputId": "d2533d90-2fb1-4ca9-b5b6-fa1cae9086d7",
        "colab": {
          "base_uri": "https://localhost:8080/",
          "height": 35
        }
      },
      "cell_type": "code",
      "source": [
        "round(np.mean(score)*100,2)"
      ],
      "execution_count": 71,
      "outputs": [
        {
          "output_type": "execute_result",
          "data": {
            "text/plain": [
              "83.5"
            ]
          },
          "metadata": {
            "tags": []
          },
          "execution_count": 71
        }
      ]
    },
    {
      "metadata": {
        "id": "ieOeWECv5Zzx",
        "colab_type": "text"
      },
      "cell_type": "markdown",
      "source": [
        "**KNN Classifier**"
      ]
    },
    {
      "metadata": {
        "id": "YD5URU9j57ux",
        "colab_type": "code",
        "colab": {
          "base_uri": "https://localhost:8080/",
          "height": 52
        },
        "outputId": "f36ba984-1abd-48ea-f3a9-74817f546609"
      },
      "cell_type": "code",
      "source": [
        "clf = KNeighborsClassifier(n_neighbors = 13)\n",
        "scoring = 'accuracy'\n",
        "score = cross_val_score(clf, train_data, target, cv=k_fold, n_jobs=1, scoring=scoring)\n",
        "print(score)"
      ],
      "execution_count": 72,
      "outputs": [
        {
          "output_type": "stream",
          "text": [
            "[0.82222222 0.76404494 0.80898876 0.83146067 0.87640449 0.82022472\n",
            " 0.85393258 0.79775281 0.84269663 0.84269663]\n"
          ],
          "name": "stdout"
        }
      ]
    },
    {
      "metadata": {
        "id": "_ccp2IU_Sh4e",
        "colab_type": "text"
      },
      "cell_type": "markdown",
      "source": [
        "kNN Percentage Score "
      ]
    },
    {
      "metadata": {
        "id": "Ik7rhtBm5_-x",
        "colab_type": "code",
        "colab": {
          "base_uri": "https://localhost:8080/",
          "height": 35
        },
        "outputId": "414cb639-89c2-4bc6-87f3-5c599a948efd"
      },
      "cell_type": "code",
      "source": [
        "round(np.mean(score)*100, 2)"
      ],
      "execution_count": 73,
      "outputs": [
        {
          "output_type": "execute_result",
          "data": {
            "text/plain": [
              "82.6"
            ]
          },
          "metadata": {
            "tags": []
          },
          "execution_count": 73
        }
      ]
    },
    {
      "metadata": {
        "id": "oxA3-ce76kIH",
        "colab_type": "text"
      },
      "cell_type": "markdown",
      "source": [
        "# Testing"
      ]
    },
    {
      "metadata": {
        "id": "4_yAEt8IdaS4",
        "colab_type": "text"
      },
      "cell_type": "markdown",
      "source": [
        "Based on the percentage scores obtained from the different classifiers, the support vector machine or SVC gave us the highest score of 83.5%. Therfore, we will use SVC for the test data set."
      ]
    },
    {
      "metadata": {
        "id": "Eplz0gJ37PBV",
        "colab_type": "code",
        "colab": {
          "base_uri": "https://localhost:8080/",
          "height": 72
        },
        "outputId": "eeecdcf1-7c13-464e-87a9-87312210390f"
      },
      "cell_type": "code",
      "source": [
        "clf = SVC()\n",
        "clf.fit(train_data, target)\n",
        "\n",
        "test_data = test.drop(\"PassengerId\", axis=1).copy()\n",
        "prediction = clf.predict(test_data)"
      ],
      "execution_count": 74,
      "outputs": [
        {
          "output_type": "stream",
          "text": [
            "/usr/local/lib/python3.6/dist-packages/sklearn/svm/base.py:196: FutureWarning: The default value of gamma will change from 'auto' to 'scale' in version 0.22 to account better for unscaled features. Set gamma explicitly to 'auto' or 'scale' to avoid this warning.\n",
            "  \"avoid this warning.\", FutureWarning)\n"
          ],
          "name": "stderr"
        }
      ]
    },
    {
      "metadata": {
        "id": "Tkli7Hac7UXs",
        "colab_type": "code",
        "colab": {}
      },
      "cell_type": "code",
      "source": [
        "submission = pd.DataFrame({\n",
        "        \"PassengerId\": test[\"PassengerId\"],\n",
        "        \"Survived\": prediction\n",
        "    })\n",
        "\n",
        "submission.to_csv('submission.csv', index=False)"
      ],
      "execution_count": 0,
      "outputs": []
    },
    {
      "metadata": {
        "id": "Fe6O5XNx7WER",
        "colab_type": "code",
        "outputId": "3e639389-8917-435e-8151-04a0ee79cf50",
        "colab": {
          "base_uri": "https://localhost:8080/",
          "height": 203
        }
      },
      "cell_type": "code",
      "source": [
        "submission = pd.read_csv('submission.csv')\n",
        "submission.head()"
      ],
      "execution_count": 76,
      "outputs": [
        {
          "output_type": "execute_result",
          "data": {
            "text/html": [
              "<div>\n",
              "<style scoped>\n",
              "    .dataframe tbody tr th:only-of-type {\n",
              "        vertical-align: middle;\n",
              "    }\n",
              "\n",
              "    .dataframe tbody tr th {\n",
              "        vertical-align: top;\n",
              "    }\n",
              "\n",
              "    .dataframe thead th {\n",
              "        text-align: right;\n",
              "    }\n",
              "</style>\n",
              "<table border=\"1\" class=\"dataframe\">\n",
              "  <thead>\n",
              "    <tr style=\"text-align: right;\">\n",
              "      <th></th>\n",
              "      <th>PassengerId</th>\n",
              "      <th>Survived</th>\n",
              "    </tr>\n",
              "  </thead>\n",
              "  <tbody>\n",
              "    <tr>\n",
              "      <th>0</th>\n",
              "      <td>892</td>\n",
              "      <td>0</td>\n",
              "    </tr>\n",
              "    <tr>\n",
              "      <th>1</th>\n",
              "      <td>893</td>\n",
              "      <td>1</td>\n",
              "    </tr>\n",
              "    <tr>\n",
              "      <th>2</th>\n",
              "      <td>894</td>\n",
              "      <td>0</td>\n",
              "    </tr>\n",
              "    <tr>\n",
              "      <th>3</th>\n",
              "      <td>895</td>\n",
              "      <td>0</td>\n",
              "    </tr>\n",
              "    <tr>\n",
              "      <th>4</th>\n",
              "      <td>896</td>\n",
              "      <td>1</td>\n",
              "    </tr>\n",
              "  </tbody>\n",
              "</table>\n",
              "</div>"
            ],
            "text/plain": [
              "   PassengerId  Survived\n",
              "0          892         0\n",
              "1          893         1\n",
              "2          894         0\n",
              "3          895         0\n",
              "4          896         1"
            ]
          },
          "metadata": {
            "tags": []
          },
          "execution_count": 76
        }
      ]
    }
  ]
}